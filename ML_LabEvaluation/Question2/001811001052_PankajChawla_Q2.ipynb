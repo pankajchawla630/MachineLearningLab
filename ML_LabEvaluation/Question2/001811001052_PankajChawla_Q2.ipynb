{
  "nbformat": 4,
  "nbformat_minor": 0,
  "metadata": {
    "colab": {
      "name": "001811001049_ARPAN_GOSWAMI_Q2.ipynb",
      "provenance": [],
      "collapsed_sections": [
        "5Lrlnh0sRkqL",
        "fH4BLjGeazE3"
      ],
      "toc_visible": true
    },
    "kernelspec": {
      "name": "python3",
      "display_name": "Python 3"
    },
    "language_info": {
      "name": "python"
    }
  },
  "cells": [
    {
      "cell_type": "markdown",
      "metadata": {
        "id": "dTlrHhCqoz7H"
      },
      "source": [
        "Name:- Arpan Goswami\n",
        "Roll:- 001811001049\n",
        "BE IT 4th Year 1st Sem\n",
        "Question 2"
      ]
    },
    {
      "cell_type": "code",
      "metadata": {
        "colab": {
          "resources": {
            "http://localhost:8080/nbextensions/google.colab/files.js": {
              "data": "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",
              "ok": true,
              "headers": [
                [
                  "content-type",
                  "application/javascript"
                ]
              ],
              "status": 200,
              "status_text": ""
            }
          },
          "base_uri": "https://localhost:8080/",
          "height": 91
        },
        "id": "D6NHwH_E-n4C",
        "outputId": "4c0dce26-50e5-4710-83f5-5ec67299a9b2"
      },
      "source": [
        "from google.colab import files\n",
        "\n",
        "uploaded = files.upload()\n",
        "\n",
        "for fn in uploaded.keys():\n",
        "  print('User uploaded file \"{name}\" with length {length} bytes'.format(\n",
        "      name=fn, length=len(uploaded[fn])))"
      ],
      "execution_count": null,
      "outputs": [
        {
          "output_type": "display_data",
          "data": {
            "text/html": [
              "\n",
              "     <input type=\"file\" id=\"files-68a315af-be77-479e-8912-23e15c60203d\" name=\"files[]\" multiple disabled\n",
              "        style=\"border:none\" />\n",
              "     <output id=\"result-68a315af-be77-479e-8912-23e15c60203d\">\n",
              "      Upload widget is only available when the cell has been executed in the\n",
              "      current browser session. Please rerun this cell to enable.\n",
              "      </output>\n",
              "      <script src=\"/nbextensions/google.colab/files.js\"></script> "
            ],
            "text/plain": [
              "<IPython.core.display.HTML object>"
            ]
          },
          "metadata": {}
        },
        {
          "output_type": "stream",
          "name": "stdout",
          "text": [
            "Saving iris.csv to iris (2).csv\n",
            "User uploaded file \"iris.csv\" with length 4631 bytes\n"
          ]
        }
      ]
    },
    {
      "cell_type": "code",
      "metadata": {
        "colab": {
          "base_uri": "https://localhost:8080/",
          "height": 206
        },
        "id": "swHgC0oEGfxS",
        "outputId": "f7e6611a-51a8-44fe-af8a-05a4ab7a87e8"
      },
      "source": [
        "import pandas as pd\n",
        "import io\n",
        "iris_data=pd.read_csv(io.StringIO(uploaded['iris.csv'].decode('utf-8')))\n",
        "iris_data.head()"
      ],
      "execution_count": null,
      "outputs": [
        {
          "output_type": "execute_result",
          "data": {
            "text/html": [
              "<div>\n",
              "<style scoped>\n",
              "    .dataframe tbody tr th:only-of-type {\n",
              "        vertical-align: middle;\n",
              "    }\n",
              "\n",
              "    .dataframe tbody tr th {\n",
              "        vertical-align: top;\n",
              "    }\n",
              "\n",
              "    .dataframe thead th {\n",
              "        text-align: right;\n",
              "    }\n",
              "</style>\n",
              "<table border=\"1\" class=\"dataframe\">\n",
              "  <thead>\n",
              "    <tr style=\"text-align: right;\">\n",
              "      <th></th>\n",
              "      <th>Sepal_length(cm)</th>\n",
              "      <th>Sepal_width(cm)</th>\n",
              "      <th>Petal_length(cm)</th>\n",
              "      <th>Petal_width(cm)</th>\n",
              "      <th>Class</th>\n",
              "    </tr>\n",
              "  </thead>\n",
              "  <tbody>\n",
              "    <tr>\n",
              "      <th>0</th>\n",
              "      <td>5.1</td>\n",
              "      <td>3.5</td>\n",
              "      <td>1.4</td>\n",
              "      <td>0.2</td>\n",
              "      <td>Iris-setosa</td>\n",
              "    </tr>\n",
              "    <tr>\n",
              "      <th>1</th>\n",
              "      <td>4.9</td>\n",
              "      <td>3.0</td>\n",
              "      <td>1.4</td>\n",
              "      <td>0.2</td>\n",
              "      <td>Iris-setosa</td>\n",
              "    </tr>\n",
              "    <tr>\n",
              "      <th>2</th>\n",
              "      <td>4.7</td>\n",
              "      <td>3.2</td>\n",
              "      <td>1.3</td>\n",
              "      <td>0.2</td>\n",
              "      <td>Iris-setosa</td>\n",
              "    </tr>\n",
              "    <tr>\n",
              "      <th>3</th>\n",
              "      <td>4.6</td>\n",
              "      <td>3.1</td>\n",
              "      <td>1.5</td>\n",
              "      <td>0.2</td>\n",
              "      <td>Iris-setosa</td>\n",
              "    </tr>\n",
              "    <tr>\n",
              "      <th>4</th>\n",
              "      <td>5.0</td>\n",
              "      <td>3.6</td>\n",
              "      <td>1.4</td>\n",
              "      <td>0.2</td>\n",
              "      <td>Iris-setosa</td>\n",
              "    </tr>\n",
              "  </tbody>\n",
              "</table>\n",
              "</div>"
            ],
            "text/plain": [
              "   Sepal_length(cm)  Sepal_width(cm)  ...  Petal_width(cm)        Class\n",
              "0               5.1              3.5  ...              0.2  Iris-setosa\n",
              "1               4.9              3.0  ...              0.2  Iris-setosa\n",
              "2               4.7              3.2  ...              0.2  Iris-setosa\n",
              "3               4.6              3.1  ...              0.2  Iris-setosa\n",
              "4               5.0              3.6  ...              0.2  Iris-setosa\n",
              "\n",
              "[5 rows x 5 columns]"
            ]
          },
          "metadata": {},
          "execution_count": 81
        }
      ]
    },
    {
      "cell_type": "markdown",
      "metadata": {
        "id": "Zz00kKlORevc"
      },
      "source": [
        "#Iris Dataset"
      ]
    },
    {
      "cell_type": "code",
      "metadata": {
        "colab": {
          "base_uri": "https://localhost:8080/",
          "height": 386
        },
        "id": "TdcH8anhG4qD",
        "outputId": "ffb2e9d9-8951-4a94-cce6-bc836de29f97"
      },
      "source": [
        "import seaborn as sns\n",
        "ax = sns.countplot(iris_data['Class'], label= 'Count')\n",
        "setosa,versicolor,virginica = iris_data['Class'].value_counts()\n",
        "print('Iris_setosa', setosa)\n",
        "print('Iris_versicolor', versicolor)\n",
        "print('Iris_virginica',virginica)"
      ],
      "execution_count": null,
      "outputs": [
        {
          "output_type": "stream",
          "name": "stdout",
          "text": [
            "Iris_setosa 50\n",
            "Iris_versicolor 50\n",
            "Iris_virginica 50\n"
          ]
        },
        {
          "output_type": "stream",
          "name": "stderr",
          "text": [
            "/usr/local/lib/python3.7/dist-packages/seaborn/_decorators.py:43: FutureWarning: Pass the following variable as a keyword arg: x. From version 0.12, the only valid positional argument will be `data`, and passing other arguments without an explicit keyword will result in an error or misinterpretation.\n",
            "  FutureWarning\n"
          ]
        },
        {
          "output_type": "display_data",
          "data": {
            "image/png": "[encoded data removed]",
            "text/plain": [
              "<Figure size 432x288 with 1 Axes>"
            ]
          },
          "metadata": {
            "needs_background": "light"
          }
        }
      ]
    },
    {
      "cell_type": "markdown",
      "metadata": {
        "id": "iXV4S0lLILD6"
      },
      "source": [
        "We can see all three are present in equal amounts"
      ]
    },
    {
      "cell_type": "code",
      "metadata": {
        "id": "t9NBLzwpIEcA"
      },
      "source": [
        "X = iris_data.iloc[:, 0:4].values\n",
        "y = iris_data.iloc[:, 4].values"
      ],
      "execution_count": null,
      "outputs": []
    },
    {
      "cell_type": "code",
      "metadata": {
        "id": "NcUC2MatMNtb"
      },
      "source": [
        "# Encoding categorical data\n",
        "from sklearn.preprocessing import LabelEncoder\n",
        "encoder = LabelEncoder()\n",
        "y1 = encoder.fit_transform(y)\n",
        "Y = pd.get_dummies(y1).values\n",
        "\n",
        "# Splitting the dataset into the Training set and Test set\n",
        "from sklearn.model_selection import train_test_split\n",
        "X_train, X_test, y_train, y_test = train_test_split(X, Y, test_size = 0.2, random_state = 0)\n",
        "\n",
        "#Feature Scaling\n",
        "from sklearn.preprocessing import StandardScaler\n",
        "sc = StandardScaler()\n",
        "X_train = sc.fit_transform(X_train)\n",
        "X_test = sc.transform(X_test)"
      ],
      "execution_count": null,
      "outputs": []
    },
    {
      "cell_type": "code",
      "metadata": {
        "colab": {
          "base_uri": "https://localhost:8080/"
        },
        "id": "iGAs5IIeMbmO",
        "outputId": "1e32d034-3296-4f3f-9cf6-64044d12b41d"
      },
      "source": [
        "X_train"
      ],
      "execution_count": null,
      "outputs": [
        {
          "output_type": "execute_result",
          "data": {
            "text/plain": [
              "array([[ 0.61303014,  0.10850105,  0.94751783,  0.73603967],\n",
              "       [-0.56776627, -0.12400121,  0.38491447,  0.34808318],\n",
              "       [-0.80392556,  1.03851009, -1.30289562, -1.3330616 ],\n",
              "       [ 0.25879121, -0.12400121,  0.60995581,  0.73603967],\n",
              "       [ 0.61303014, -0.58900572,  1.00377816,  1.25331499],\n",
              "       [-0.80392556, -0.82150798,  0.04735245,  0.21876435],\n",
              "       [-0.21352735,  1.73601687, -1.19037495, -1.20374277],\n",
              "       [ 0.14071157, -0.82150798,  0.72247648,  0.47740201],\n",
              "       [ 0.02263193, -0.12400121,  0.21613346,  0.34808318],\n",
              "       [-0.09544771, -1.05401024,  0.10361279, -0.03987331],\n",
              "       [ 1.0853487 , -0.12400121,  0.94751783,  1.12399616],\n",
              "       [-1.39432376,  0.34100331, -1.41541629, -1.3330616 ],\n",
              "       [ 1.20342834,  0.10850105,  0.72247648,  1.38263382],\n",
              "       [-1.04008484,  1.03851009, -1.24663528, -0.81578628],\n",
              "       [-0.56776627,  1.50351461, -1.30289562, -1.3330616 ],\n",
              "       [-1.04008484, -2.4490238 , -0.1776889 , -0.29851096],\n",
              "       [ 0.73110978, -0.12400121,  0.94751783,  0.73603967],\n",
              "       [ 0.96726906,  0.57350557,  1.0600385 ,  1.64127148],\n",
              "       [ 0.14071157, -1.98401928,  0.66621615,  0.34808318],\n",
              "       [ 0.96726906, -1.2865125 ,  1.11629884,  0.73603967],\n",
              "       [-0.33160699, -1.2865125 ,  0.04735245, -0.16919214],\n",
              "       [ 2.14806547, -0.12400121,  1.28507985,  1.38263382],\n",
              "       [ 0.49495049,  0.57350557,  0.49743514,  0.47740201],\n",
              "       [-0.44968663, -1.51901476, -0.00890789, -0.16919214],\n",
              "       [ 0.49495049, -0.82150798,  0.60995581,  0.73603967],\n",
              "       [ 0.49495049, -0.58900572,  0.72247648,  0.34808318],\n",
              "       [-1.15816448, -1.2865125 ,  0.38491447,  0.60672084],\n",
              "       [ 0.49495049, -1.2865125 ,  0.66621615,  0.8653585 ],\n",
              "       [ 1.32150798,  0.34100331,  0.49743514,  0.21876435],\n",
              "       [ 0.73110978, -0.12400121,  0.77873682,  0.99467733],\n",
              "       [ 0.14071157,  0.80600783,  0.38491447,  0.47740201],\n",
              "       [-1.27624412,  0.10850105, -1.24663528, -1.3330616 ],\n",
              "       [-0.09544771, -0.82150798,  0.72247648,  0.8653585 ],\n",
              "       [-0.33160699, -0.82150798,  0.21613346,  0.08944552],\n",
              "       [-0.33160699, -0.35650346, -0.12142856,  0.08944552],\n",
              "       [-0.44968663, -1.2865125 ,  0.10361279,  0.08944552],\n",
              "       [ 0.25879121, -0.12400121,  0.4411748 ,  0.21876435],\n",
              "       [ 1.55766726,  0.34100331,  1.22881951,  0.73603967],\n",
              "       [-0.68584591,  1.50351461, -1.30289562, -1.3330616 ],\n",
              "       [-1.86664232, -0.12400121, -1.52793696, -1.46238043],\n",
              "       [ 0.61303014, -0.82150798,  0.83499716,  0.8653585 ],\n",
              "       [-0.21352735, -0.12400121,  0.21613346, -0.03987331],\n",
              "       [-0.56776627,  0.80600783, -1.19037495, -1.3330616 ],\n",
              "       [-0.21352735,  3.13103043, -1.30289562, -1.07442394],\n",
              "       [ 1.20342834,  0.10850105,  0.60995581,  0.34808318],\n",
              "       [-1.5124034 ,  0.10850105, -1.30289562, -1.3330616 ],\n",
              "       [ 0.02263193, -0.12400121,  0.72247648,  0.73603967],\n",
              "       [-0.9220052 , -1.2865125 , -0.45899058, -0.16919214],\n",
              "       [-1.5124034 ,  0.80600783, -1.35915595, -1.20374277],\n",
              "       [ 0.37687085, -1.98401928,  0.38491447,  0.34808318],\n",
              "       [ 1.55766726,  1.27101235,  1.28507985,  1.64127148],\n",
              "       [-0.21352735, -0.35650346,  0.21613346,  0.08944552],\n",
              "       [-1.27624412, -0.12400121, -1.35915595, -1.46238043],\n",
              "       [ 1.43958762, -0.12400121,  1.17255917,  1.12399616],\n",
              "       [ 1.20342834,  0.34100331,  1.0600385 ,  1.38263382],\n",
              "       [ 0.73110978, -0.12400121,  1.11629884,  1.25331499],\n",
              "       [ 0.61303014, -0.58900572,  1.00377816,  1.12399616],\n",
              "       [-0.9220052 ,  1.73601687, -1.24663528, -1.3330616 ],\n",
              "       [-1.27624412,  0.80600783, -1.24663528, -1.3330616 ],\n",
              "       [ 0.73110978,  0.34100331,  0.72247648,  0.99467733],\n",
              "       [ 0.96726906,  0.57350557,  1.0600385 ,  1.12399616],\n",
              "       [-1.63048304, -1.75151702, -1.41541629, -1.20374277],\n",
              "       [ 0.37687085,  0.80600783,  0.89125749,  1.38263382],\n",
              "       [-1.15816448, -0.12400121, -1.35915595, -1.3330616 ],\n",
              "       [-0.21352735, -1.2865125 ,  0.66621615,  0.99467733],\n",
              "       [ 1.20342834,  0.10850105,  0.89125749,  1.12399616],\n",
              "       [-1.74856268,  0.34100331, -1.41541629, -1.3330616 ],\n",
              "       [-1.04008484,  1.27101235, -1.35915595, -1.3330616 ],\n",
              "       [ 1.55766726, -0.12400121,  1.11629884,  0.47740201],\n",
              "       [-0.9220052 ,  1.03851009, -1.35915595, -1.20374277],\n",
              "       [-1.74856268, -0.12400121, -1.41541629, -1.3330616 ],\n",
              "       [-0.56776627,  1.96851913, -1.19037495, -1.07442394],\n",
              "       [-0.44968663, -1.75151702,  0.10361279,  0.08944552],\n",
              "       [ 1.0853487 ,  0.34100331,  1.17255917,  1.38263382],\n",
              "       [ 2.02998583, -0.12400121,  1.56638153,  1.12399616],\n",
              "       [-0.9220052 ,  1.03851009, -1.35915595, -1.3330616 ],\n",
              "       [-1.15816448,  0.10850105, -1.30289562, -1.46238043],\n",
              "       [-0.80392556,  0.80600783, -1.35915595, -1.3330616 ],\n",
              "       [-0.21352735, -0.58900572,  0.38491447,  0.08944552],\n",
              "       [ 0.84918942, -0.12400121,  0.32865413,  0.21876435],\n",
              "       [-1.04008484,  0.34100331, -1.47167663, -1.3330616 ],\n",
              "       [-0.9220052 ,  0.57350557, -1.19037495, -0.94510511],\n",
              "       [ 0.61303014, -0.35650346,  0.27239379,  0.08944552],\n",
              "       [-0.56776627,  0.80600783, -1.30289562, -1.07442394],\n",
              "       [ 2.14806547, -1.05401024,  1.73516253,  1.38263382],\n",
              "       [-1.15816448, -1.51901476, -0.29020957, -0.29851096],\n",
              "       [ 2.38422475,  1.73601687,  1.45386085,  0.99467733],\n",
              "       [ 0.96726906,  0.10850105,  0.32865413,  0.21876435],\n",
              "       [-0.80392556,  2.43352365, -1.30289562, -1.46238043],\n",
              "       [ 0.14071157, -0.12400121,  0.55369548,  0.73603967],\n",
              "       [-0.09544771,  2.20102139, -1.47167663, -1.3330616 ],\n",
              "       [ 2.14806547, -0.58900572,  1.62264186,  0.99467733],\n",
              "       [-0.9220052 ,  1.73601687, -1.30289562, -1.20374277],\n",
              "       [-1.39432376,  0.34100331, -1.24663528, -1.3330616 ],\n",
              "       [ 1.79382654, -0.58900572,  1.28507985,  0.8653585 ],\n",
              "       [-1.04008484,  0.57350557, -1.35915595, -1.3330616 ],\n",
              "       [ 0.49495049,  0.80600783,  1.00377816,  1.51195265],\n",
              "       [-0.21352735, -0.58900572,  0.15987312,  0.08944552],\n",
              "       [-0.09544771, -0.82150798,  0.04735245, -0.03987331],\n",
              "       [-0.21352735, -1.05401024, -0.1776889 , -0.29851096],\n",
              "       [ 0.61303014,  0.34100331,  0.83499716,  1.38263382],\n",
              "       [ 0.96726906, -0.12400121,  0.77873682,  1.38263382],\n",
              "       [ 0.49495049, -1.2865125 ,  0.60995581,  0.34808318],\n",
              "       [ 0.96726906, -0.12400121,  0.66621615,  0.60672084],\n",
              "       [-1.04008484, -0.12400121, -1.24663528, -1.3330616 ],\n",
              "       [-0.44968663, -1.51901476, -0.06516822, -0.29851096],\n",
              "       [ 0.96726906,  0.10850105,  1.00377816,  1.51195265],\n",
              "       [-0.09544771, -0.82150798,  0.72247648,  0.8653585 ],\n",
              "       [-0.9220052 ,  0.80600783, -1.30289562, -1.3330616 ],\n",
              "       [ 0.84918942, -0.35650346,  0.4411748 ,  0.08944552],\n",
              "       [-0.33160699, -0.12400121,  0.15987312,  0.08944552],\n",
              "       [ 0.02263193,  0.34100331,  0.55369548,  0.73603967],\n",
              "       [ 0.49495049, -1.75151702,  0.32865413,  0.08944552],\n",
              "       [-0.44968663,  1.03851009, -1.41541629, -1.3330616 ],\n",
              "       [-0.9220052 ,  1.50351461, -1.30289562, -1.07442394],\n",
              "       [-1.15816448,  0.10850105, -1.30289562, -1.46238043],\n",
              "       [ 0.49495049, -0.35650346,  1.00377816,  0.73603967],\n",
              "       [-0.09544771, -0.82150798,  0.15987312, -0.29851096],\n",
              "       [ 2.14806547,  1.73601687,  1.62264186,  1.25331499],\n",
              "       [-1.5124034 ,  0.34100331, -1.35915595, -1.3330616 ]])"
            ]
          },
          "metadata": {},
          "execution_count": 85
        }
      ]
    },
    {
      "cell_type": "code",
      "metadata": {
        "colab": {
          "base_uri": "https://localhost:8080/"
        },
        "id": "VTISEGHWMfir",
        "outputId": "2ac7dab2-9e83-4f38-c9f2-09ccd55b88e5"
      },
      "source": [
        "X_test"
      ],
      "execution_count": null,
      "outputs": [
        {
          "output_type": "execute_result",
          "data": {
            "text/plain": [
              "array([[-0.09544771, -0.58900572,  0.72247648,  1.51195265],\n",
              "       [ 0.14071157, -1.98401928,  0.10361279, -0.29851096],\n",
              "       [-0.44968663,  2.66602591, -1.35915595, -1.3330616 ],\n",
              "       [ 1.6757469 , -0.35650346,  1.39760052,  0.73603967],\n",
              "       [-1.04008484,  0.80600783, -1.30289562, -1.3330616 ],\n",
              "       [ 0.49495049,  0.57350557,  1.22881951,  1.64127148],\n",
              "       [-1.04008484,  1.03851009, -1.41541629, -1.20374277],\n",
              "       [ 0.96726906,  0.10850105,  0.49743514,  0.34808318],\n",
              "       [ 1.0853487 , -0.58900572,  0.55369548,  0.21876435],\n",
              "       [ 0.25879121, -0.58900572,  0.10361279,  0.08944552],\n",
              "       [ 0.25879121, -1.05401024,  1.00377816,  0.21876435],\n",
              "       [ 0.61303014,  0.34100331,  0.38491447,  0.34808318],\n",
              "       [ 0.25879121, -0.58900572,  0.49743514, -0.03987331],\n",
              "       [ 0.73110978, -0.58900572,  0.4411748 ,  0.34808318],\n",
              "       [ 0.25879121, -0.35650346,  0.49743514,  0.21876435],\n",
              "       [-1.15816448,  0.10850105, -1.30289562, -1.46238043],\n",
              "       [ 0.14071157, -0.35650346,  0.38491447,  0.34808318],\n",
              "       [-0.44968663, -1.05401024,  0.32865413, -0.03987331],\n",
              "       [-1.27624412, -0.12400121, -1.35915595, -1.20374277],\n",
              "       [-0.56776627,  1.96851913, -1.41541629, -1.07442394],\n",
              "       [-0.33160699, -0.58900572,  0.60995581,  0.99467733],\n",
              "       [-0.33160699, -0.12400121,  0.38491447,  0.34808318],\n",
              "       [-1.27624412,  0.80600783, -1.07785427, -1.3330616 ],\n",
              "       [-1.74856268, -0.35650346, -1.35915595, -1.3330616 ],\n",
              "       [ 0.37687085, -0.58900572,  0.55369548,  0.73603967],\n",
              "       [-1.5124034 ,  1.27101235, -1.5841973 , -1.3330616 ],\n",
              "       [-0.9220052 ,  1.73601687, -1.07785427, -1.07442394],\n",
              "       [ 0.37687085, -0.35650346,  0.27239379,  0.08944552],\n",
              "       [-1.04008484, -1.75151702, -0.29020957, -0.29851096],\n",
              "       [-1.04008484,  0.80600783, -1.24663528, -1.07442394]])"
            ]
          },
          "metadata": {},
          "execution_count": 86
        }
      ]
    },
    {
      "cell_type": "code",
      "metadata": {
        "colab": {
          "base_uri": "https://localhost:8080/"
        },
        "id": "3ddBdCXbQK-U",
        "outputId": "55655f4b-092d-4fe1-984e-0cfd12cbb09b"
      },
      "source": [
        "y_train"
      ],
      "execution_count": null,
      "outputs": [
        {
          "output_type": "execute_result",
          "data": {
            "text/plain": [
              "array([[0, 0, 1],\n",
              "       [0, 1, 0],\n",
              "       [1, 0, 0],\n",
              "       [0, 0, 1],\n",
              "       [0, 0, 1],\n",
              "       [0, 1, 0],\n",
              "       [1, 0, 0],\n",
              "       [0, 1, 0],\n",
              "       [0, 1, 0],\n",
              "       [0, 1, 0],\n",
              "       [0, 0, 1],\n",
              "       [1, 0, 0],\n",
              "       [0, 0, 1],\n",
              "       [1, 0, 0],\n",
              "       [1, 0, 0],\n",
              "       [0, 1, 0],\n",
              "       [0, 0, 1],\n",
              "       [0, 0, 1],\n",
              "       [0, 0, 1],\n",
              "       [0, 0, 1],\n",
              "       [0, 1, 0],\n",
              "       [0, 0, 1],\n",
              "       [0, 1, 0],\n",
              "       [0, 1, 0],\n",
              "       [0, 0, 1],\n",
              "       [0, 0, 1],\n",
              "       [0, 0, 1],\n",
              "       [0, 0, 1],\n",
              "       [0, 1, 0],\n",
              "       [0, 0, 1],\n",
              "       [0, 1, 0],\n",
              "       [1, 0, 0],\n",
              "       [0, 0, 1],\n",
              "       [0, 1, 0],\n",
              "       [0, 1, 0],\n",
              "       [0, 1, 0],\n",
              "       [0, 1, 0],\n",
              "       [0, 0, 1],\n",
              "       [1, 0, 0],\n",
              "       [1, 0, 0],\n",
              "       [0, 0, 1],\n",
              "       [0, 1, 0],\n",
              "       [1, 0, 0],\n",
              "       [1, 0, 0],\n",
              "       [0, 1, 0],\n",
              "       [1, 0, 0],\n",
              "       [0, 0, 1],\n",
              "       [0, 1, 0],\n",
              "       [1, 0, 0],\n",
              "       [0, 1, 0],\n",
              "       [0, 0, 1],\n",
              "       [0, 1, 0],\n",
              "       [1, 0, 0],\n",
              "       [0, 0, 1],\n",
              "       [0, 0, 1],\n",
              "       [0, 0, 1],\n",
              "       [0, 0, 1],\n",
              "       [1, 0, 0],\n",
              "       [1, 0, 0],\n",
              "       [0, 0, 1],\n",
              "       [0, 0, 1],\n",
              "       [1, 0, 0],\n",
              "       [0, 0, 1],\n",
              "       [1, 0, 0],\n",
              "       [0, 0, 1],\n",
              "       [0, 0, 1],\n",
              "       [1, 0, 0],\n",
              "       [1, 0, 0],\n",
              "       [0, 0, 1],\n",
              "       [1, 0, 0],\n",
              "       [1, 0, 0],\n",
              "       [1, 0, 0],\n",
              "       [0, 1, 0],\n",
              "       [0, 0, 1],\n",
              "       [0, 0, 1],\n",
              "       [1, 0, 0],\n",
              "       [1, 0, 0],\n",
              "       [1, 0, 0],\n",
              "       [0, 1, 0],\n",
              "       [0, 1, 0],\n",
              "       [1, 0, 0],\n",
              "       [1, 0, 0],\n",
              "       [0, 1, 0],\n",
              "       [1, 0, 0],\n",
              "       [0, 0, 1],\n",
              "       [0, 1, 0],\n",
              "       [0, 0, 1],\n",
              "       [0, 1, 0],\n",
              "       [1, 0, 0],\n",
              "       [0, 0, 1],\n",
              "       [1, 0, 0],\n",
              "       [0, 0, 1],\n",
              "       [1, 0, 0],\n",
              "       [1, 0, 0],\n",
              "       [0, 0, 1],\n",
              "       [1, 0, 0],\n",
              "       [0, 0, 1],\n",
              "       [0, 1, 0],\n",
              "       [0, 1, 0],\n",
              "       [0, 1, 0],\n",
              "       [0, 0, 1],\n",
              "       [0, 0, 1],\n",
              "       [0, 1, 0],\n",
              "       [0, 1, 0],\n",
              "       [1, 0, 0],\n",
              "       [0, 1, 0],\n",
              "       [0, 0, 1],\n",
              "       [0, 0, 1],\n",
              "       [1, 0, 0],\n",
              "       [0, 1, 0],\n",
              "       [0, 1, 0],\n",
              "       [0, 1, 0],\n",
              "       [0, 1, 0],\n",
              "       [1, 0, 0],\n",
              "       [1, 0, 0],\n",
              "       [1, 0, 0],\n",
              "       [0, 0, 1],\n",
              "       [0, 1, 0],\n",
              "       [0, 0, 1],\n",
              "       [1, 0, 0]], dtype=uint8)"
            ]
          },
          "metadata": {},
          "execution_count": 87
        }
      ]
    },
    {
      "cell_type": "code",
      "metadata": {
        "colab": {
          "base_uri": "https://localhost:8080/"
        },
        "id": "k8aq107OQN0j",
        "outputId": "d3bf9a3b-e167-4fdc-e193-daedcde67356"
      },
      "source": [
        "y_test"
      ],
      "execution_count": null,
      "outputs": [
        {
          "output_type": "execute_result",
          "data": {
            "text/plain": [
              "array([[0, 0, 1],\n",
              "       [0, 1, 0],\n",
              "       [1, 0, 0],\n",
              "       [0, 0, 1],\n",
              "       [1, 0, 0],\n",
              "       [0, 0, 1],\n",
              "       [1, 0, 0],\n",
              "       [0, 1, 0],\n",
              "       [0, 1, 0],\n",
              "       [0, 1, 0],\n",
              "       [0, 0, 1],\n",
              "       [0, 1, 0],\n",
              "       [0, 1, 0],\n",
              "       [0, 1, 0],\n",
              "       [0, 1, 0],\n",
              "       [1, 0, 0],\n",
              "       [0, 1, 0],\n",
              "       [0, 1, 0],\n",
              "       [1, 0, 0],\n",
              "       [1, 0, 0],\n",
              "       [0, 0, 1],\n",
              "       [0, 1, 0],\n",
              "       [1, 0, 0],\n",
              "       [1, 0, 0],\n",
              "       [0, 0, 1],\n",
              "       [1, 0, 0],\n",
              "       [1, 0, 0],\n",
              "       [0, 1, 0],\n",
              "       [0, 1, 0],\n",
              "       [1, 0, 0]], dtype=uint8)"
            ]
          },
          "metadata": {},
          "execution_count": 88
        }
      ]
    },
    {
      "cell_type": "code",
      "metadata": {
        "id": "V82p_Sm-MnwL"
      },
      "source": [
        "from keras.models import Sequential\n",
        "from keras.layers import Dense\n",
        "from keras.layers import Dropout"
      ],
      "execution_count": null,
      "outputs": []
    },
    {
      "cell_type": "code",
      "metadata": {
        "id": "yVRv2RUsMs_i"
      },
      "source": [
        "classifier = Sequential()\n",
        "\n",
        "classifier.add(Dense(4,input_shape=(4,), activation='relu'))\n",
        "\n",
        "classifier.add(Dense(3, activation='softmax'))"
      ],
      "execution_count": null,
      "outputs": []
    },
    {
      "cell_type": "code",
      "metadata": {
        "id": "goCVYvanM320"
      },
      "source": [
        "classifier.compile(optimizer='sgd',loss='categorical_crossentropy', metrics=['accuracy'])"
      ],
      "execution_count": null,
      "outputs": []
    },
    {
      "cell_type": "code",
      "metadata": {
        "colab": {
          "base_uri": "https://localhost:8080/"
        },
        "id": "E9FxTKkROYYA",
        "outputId": "f13a5a07-7584-42b6-d0b2-a28ffb0c4422"
      },
      "source": [
        "classifier.fit(X_train, y_train, batch_size=10, epochs=150)"
      ],
      "execution_count": null,
      "outputs": [
        {
          "output_type": "stream",
          "name": "stdout",
          "text": [
            "Epoch 1/150\n",
            "12/12 [==============================] - 0s 2ms/step - loss: 0.9263 - accuracy: 0.5750\n",
            "Epoch 2/150\n",
            "12/12 [==============================] - 0s 2ms/step - loss: 0.8979 - accuracy: 0.5833\n",
            "Epoch 3/150\n",
            "12/12 [==============================] - 0s 2ms/step - loss: 0.8690 - accuracy: 0.6250\n",
            "Epoch 4/150\n",
            "12/12 [==============================] - 0s 2ms/step - loss: 0.8411 - accuracy: 0.6583\n",
            "Epoch 5/150\n",
            "12/12 [==============================] - 0s 2ms/step - loss: 0.8149 - accuracy: 0.7167\n",
            "Epoch 6/150\n",
            "12/12 [==============================] - 0s 2ms/step - loss: 0.7898 - accuracy: 0.7333\n",
            "Epoch 7/150\n",
            "12/12 [==============================] - 0s 2ms/step - loss: 0.7659 - accuracy: 0.7833\n",
            "Epoch 8/150\n",
            "12/12 [==============================] - 0s 2ms/step - loss: 0.7427 - accuracy: 0.8000\n",
            "Epoch 9/150\n",
            "12/12 [==============================] - 0s 2ms/step - loss: 0.7208 - accuracy: 0.8083\n",
            "Epoch 10/150\n",
            "12/12 [==============================] - 0s 2ms/step - loss: 0.7000 - accuracy: 0.8250\n",
            "Epoch 11/150\n",
            "12/12 [==============================] - 0s 2ms/step - loss: 0.6796 - accuracy: 0.8250\n",
            "Epoch 12/150\n",
            "12/12 [==============================] - 0s 2ms/step - loss: 0.6610 - accuracy: 0.8250\n",
            "Epoch 13/150\n",
            "12/12 [==============================] - 0s 2ms/step - loss: 0.6437 - accuracy: 0.8250\n",
            "Epoch 14/150\n",
            "12/12 [==============================] - 0s 2ms/step - loss: 0.6265 - accuracy: 0.8250\n",
            "Epoch 15/150\n",
            "12/12 [==============================] - 0s 2ms/step - loss: 0.6104 - accuracy: 0.8250\n",
            "Epoch 16/150\n",
            "12/12 [==============================] - 0s 2ms/step - loss: 0.5949 - accuracy: 0.8250\n",
            "Epoch 17/150\n",
            "12/12 [==============================] - 0s 2ms/step - loss: 0.5804 - accuracy: 0.8333\n",
            "Epoch 18/150\n",
            "12/12 [==============================] - 0s 2ms/step - loss: 0.5664 - accuracy: 0.8333\n",
            "Epoch 19/150\n",
            "12/12 [==============================] - 0s 2ms/step - loss: 0.5536 - accuracy: 0.8333\n",
            "Epoch 20/150\n",
            "12/12 [==============================] - 0s 2ms/step - loss: 0.5413 - accuracy: 0.8333\n",
            "Epoch 21/150\n",
            "12/12 [==============================] - 0s 2ms/step - loss: 0.5294 - accuracy: 0.8333\n",
            "Epoch 22/150\n",
            "12/12 [==============================] - 0s 2ms/step - loss: 0.5183 - accuracy: 0.8333\n",
            "Epoch 23/150\n",
            "12/12 [==============================] - 0s 2ms/step - loss: 0.5077 - accuracy: 0.8333\n",
            "Epoch 24/150\n",
            "12/12 [==============================] - 0s 2ms/step - loss: 0.4974 - accuracy: 0.8333\n",
            "Epoch 25/150\n",
            "12/12 [==============================] - 0s 2ms/step - loss: 0.4878 - accuracy: 0.8333\n",
            "Epoch 26/150\n",
            "12/12 [==============================] - 0s 2ms/step - loss: 0.4785 - accuracy: 0.8333\n",
            "Epoch 27/150\n",
            "12/12 [==============================] - 0s 2ms/step - loss: 0.4695 - accuracy: 0.8417\n",
            "Epoch 28/150\n",
            "12/12 [==============================] - 0s 2ms/step - loss: 0.4609 - accuracy: 0.8417\n",
            "Epoch 29/150\n",
            "12/12 [==============================] - 0s 2ms/step - loss: 0.4529 - accuracy: 0.8417\n",
            "Epoch 30/150\n",
            "12/12 [==============================] - 0s 2ms/step - loss: 0.4452 - accuracy: 0.8417\n",
            "Epoch 31/150\n",
            "12/12 [==============================] - 0s 2ms/step - loss: 0.4375 - accuracy: 0.8583\n",
            "Epoch 32/150\n",
            "12/12 [==============================] - 0s 2ms/step - loss: 0.4304 - accuracy: 0.8500\n",
            "Epoch 33/150\n",
            "12/12 [==============================] - 0s 2ms/step - loss: 0.4233 - accuracy: 0.8750\n",
            "Epoch 34/150\n",
            "12/12 [==============================] - 0s 2ms/step - loss: 0.4166 - accuracy: 0.8667\n",
            "Epoch 35/150\n",
            "12/12 [==============================] - 0s 2ms/step - loss: 0.4098 - accuracy: 0.8667\n",
            "Epoch 36/150\n",
            "12/12 [==============================] - 0s 2ms/step - loss: 0.4038 - accuracy: 0.8750\n",
            "Epoch 37/150\n",
            "12/12 [==============================] - 0s 2ms/step - loss: 0.3974 - accuracy: 0.8750\n",
            "Epoch 38/150\n",
            "12/12 [==============================] - 0s 2ms/step - loss: 0.3919 - accuracy: 0.8833\n",
            "Epoch 39/150\n",
            "12/12 [==============================] - 0s 2ms/step - loss: 0.3859 - accuracy: 0.8833\n",
            "Epoch 40/150\n",
            "12/12 [==============================] - 0s 2ms/step - loss: 0.3804 - accuracy: 0.8833\n",
            "Epoch 41/150\n",
            "12/12 [==============================] - 0s 2ms/step - loss: 0.3751 - accuracy: 0.8833\n",
            "Epoch 42/150\n",
            "12/12 [==============================] - 0s 2ms/step - loss: 0.3696 - accuracy: 0.8833\n",
            "Epoch 43/150\n",
            "12/12 [==============================] - 0s 2ms/step - loss: 0.3647 - accuracy: 0.8833\n",
            "Epoch 44/150\n",
            "12/12 [==============================] - 0s 2ms/step - loss: 0.3596 - accuracy: 0.8833\n",
            "Epoch 45/150\n",
            "12/12 [==============================] - 0s 4ms/step - loss: 0.3550 - accuracy: 0.8833\n",
            "Epoch 46/150\n",
            "12/12 [==============================] - 0s 2ms/step - loss: 0.3504 - accuracy: 0.8833\n",
            "Epoch 47/150\n",
            "12/12 [==============================] - 0s 2ms/step - loss: 0.3456 - accuracy: 0.8833\n",
            "Epoch 48/150\n",
            "12/12 [==============================] - 0s 2ms/step - loss: 0.3418 - accuracy: 0.8833\n",
            "Epoch 49/150\n",
            "12/12 [==============================] - 0s 3ms/step - loss: 0.3373 - accuracy: 0.8833\n",
            "Epoch 50/150\n",
            "12/12 [==============================] - 0s 2ms/step - loss: 0.3332 - accuracy: 0.8833\n",
            "Epoch 51/150\n",
            "12/12 [==============================] - 0s 2ms/step - loss: 0.3295 - accuracy: 0.8833\n",
            "Epoch 52/150\n",
            "12/12 [==============================] - 0s 2ms/step - loss: 0.3256 - accuracy: 0.8833\n",
            "Epoch 53/150\n",
            "12/12 [==============================] - 0s 2ms/step - loss: 0.3221 - accuracy: 0.8833\n",
            "Epoch 54/150\n",
            "12/12 [==============================] - 0s 2ms/step - loss: 0.3188 - accuracy: 0.9000\n",
            "Epoch 55/150\n",
            "12/12 [==============================] - 0s 3ms/step - loss: 0.3153 - accuracy: 0.9000\n",
            "Epoch 56/150\n",
            "12/12 [==============================] - 0s 2ms/step - loss: 0.3119 - accuracy: 0.9000\n",
            "Epoch 57/150\n",
            "12/12 [==============================] - 0s 2ms/step - loss: 0.3082 - accuracy: 0.9000\n",
            "Epoch 58/150\n",
            "12/12 [==============================] - 0s 2ms/step - loss: 0.3049 - accuracy: 0.9000\n",
            "Epoch 59/150\n",
            "12/12 [==============================] - 0s 2ms/step - loss: 0.3022 - accuracy: 0.9000\n",
            "Epoch 60/150\n",
            "12/12 [==============================] - 0s 2ms/step - loss: 0.2990 - accuracy: 0.9000\n",
            "Epoch 61/150\n",
            "12/12 [==============================] - 0s 2ms/step - loss: 0.2958 - accuracy: 0.9000\n",
            "Epoch 62/150\n",
            "12/12 [==============================] - 0s 2ms/step - loss: 0.2928 - accuracy: 0.9000\n",
            "Epoch 63/150\n",
            "12/12 [==============================] - 0s 2ms/step - loss: 0.2900 - accuracy: 0.9083\n",
            "Epoch 64/150\n",
            "12/12 [==============================] - 0s 2ms/step - loss: 0.2874 - accuracy: 0.9083\n",
            "Epoch 65/150\n",
            "12/12 [==============================] - 0s 1ms/step - loss: 0.2848 - accuracy: 0.9083\n",
            "Epoch 66/150\n",
            "12/12 [==============================] - 0s 2ms/step - loss: 0.2824 - accuracy: 0.9083\n",
            "Epoch 67/150\n",
            "12/12 [==============================] - 0s 2ms/step - loss: 0.2796 - accuracy: 0.9083\n",
            "Epoch 68/150\n",
            "12/12 [==============================] - 0s 2ms/step - loss: 0.2769 - accuracy: 0.9083\n",
            "Epoch 69/150\n",
            "12/12 [==============================] - 0s 3ms/step - loss: 0.2747 - accuracy: 0.9083\n",
            "Epoch 70/150\n",
            "12/12 [==============================] - 0s 2ms/step - loss: 0.2724 - accuracy: 0.9083\n",
            "Epoch 71/150\n",
            "12/12 [==============================] - 0s 2ms/step - loss: 0.2699 - accuracy: 0.9083\n",
            "Epoch 72/150\n",
            "12/12 [==============================] - 0s 3ms/step - loss: 0.2682 - accuracy: 0.9083\n",
            "Epoch 73/150\n",
            "12/12 [==============================] - 0s 2ms/step - loss: 0.2652 - accuracy: 0.9083\n",
            "Epoch 74/150\n",
            "12/12 [==============================] - 0s 2ms/step - loss: 0.2632 - accuracy: 0.9083\n",
            "Epoch 75/150\n",
            "12/12 [==============================] - 0s 3ms/step - loss: 0.2608 - accuracy: 0.9083\n",
            "Epoch 76/150\n",
            "12/12 [==============================] - 0s 2ms/step - loss: 0.2589 - accuracy: 0.9167\n",
            "Epoch 77/150\n",
            "12/12 [==============================] - 0s 2ms/step - loss: 0.2567 - accuracy: 0.9250\n",
            "Epoch 78/150\n",
            "12/12 [==============================] - 0s 2ms/step - loss: 0.2546 - accuracy: 0.9167\n",
            "Epoch 79/150\n",
            "12/12 [==============================] - 0s 2ms/step - loss: 0.2528 - accuracy: 0.9250\n",
            "Epoch 80/150\n",
            "12/12 [==============================] - 0s 2ms/step - loss: 0.2503 - accuracy: 0.9250\n",
            "Epoch 81/150\n",
            "12/12 [==============================] - 0s 2ms/step - loss: 0.2485 - accuracy: 0.9250\n",
            "Epoch 82/150\n",
            "12/12 [==============================] - 0s 2ms/step - loss: 0.2468 - accuracy: 0.9250\n",
            "Epoch 83/150\n",
            "12/12 [==============================] - 0s 3ms/step - loss: 0.2447 - accuracy: 0.9250\n",
            "Epoch 84/150\n",
            "12/12 [==============================] - 0s 2ms/step - loss: 0.2429 - accuracy: 0.9250\n",
            "Epoch 85/150\n",
            "12/12 [==============================] - 0s 2ms/step - loss: 0.2407 - accuracy: 0.9250\n",
            "Epoch 86/150\n",
            "12/12 [==============================] - 0s 2ms/step - loss: 0.2389 - accuracy: 0.9250\n",
            "Epoch 87/150\n",
            "12/12 [==============================] - 0s 2ms/step - loss: 0.2370 - accuracy: 0.9250\n",
            "Epoch 88/150\n",
            "12/12 [==============================] - 0s 2ms/step - loss: 0.2356 - accuracy: 0.9250\n",
            "Epoch 89/150\n",
            "12/12 [==============================] - 0s 2ms/step - loss: 0.2337 - accuracy: 0.9250\n",
            "Epoch 90/150\n",
            "12/12 [==============================] - 0s 1ms/step - loss: 0.2316 - accuracy: 0.9250\n",
            "Epoch 91/150\n",
            "12/12 [==============================] - 0s 2ms/step - loss: 0.2301 - accuracy: 0.9250\n",
            "Epoch 92/150\n",
            "12/12 [==============================] - 0s 2ms/step - loss: 0.2280 - accuracy: 0.9250\n",
            "Epoch 93/150\n",
            "12/12 [==============================] - 0s 2ms/step - loss: 0.2266 - accuracy: 0.9250\n",
            "Epoch 94/150\n",
            "12/12 [==============================] - 0s 2ms/step - loss: 0.2250 - accuracy: 0.9250\n",
            "Epoch 95/150\n",
            "12/12 [==============================] - 0s 2ms/step - loss: 0.2233 - accuracy: 0.9250\n",
            "Epoch 96/150\n",
            "12/12 [==============================] - 0s 2ms/step - loss: 0.2218 - accuracy: 0.9250\n",
            "Epoch 97/150\n",
            "12/12 [==============================] - 0s 2ms/step - loss: 0.2201 - accuracy: 0.9250\n",
            "Epoch 98/150\n",
            "12/12 [==============================] - 0s 2ms/step - loss: 0.2186 - accuracy: 0.9250\n",
            "Epoch 99/150\n",
            "12/12 [==============================] - 0s 2ms/step - loss: 0.2173 - accuracy: 0.9250\n",
            "Epoch 100/150\n",
            "12/12 [==============================] - 0s 2ms/step - loss: 0.2153 - accuracy: 0.9250\n",
            "Epoch 101/150\n",
            "12/12 [==============================] - 0s 2ms/step - loss: 0.2141 - accuracy: 0.9250\n",
            "Epoch 102/150\n",
            "12/12 [==============================] - 0s 2ms/step - loss: 0.2125 - accuracy: 0.9250\n",
            "Epoch 103/150\n",
            "12/12 [==============================] - 0s 2ms/step - loss: 0.2114 - accuracy: 0.9250\n",
            "Epoch 104/150\n",
            "12/12 [==============================] - 0s 2ms/step - loss: 0.2098 - accuracy: 0.9250\n",
            "Epoch 105/150\n",
            "12/12 [==============================] - 0s 2ms/step - loss: 0.2087 - accuracy: 0.9250\n",
            "Epoch 106/150\n",
            "12/12 [==============================] - 0s 2ms/step - loss: 0.2072 - accuracy: 0.9250\n",
            "Epoch 107/150\n",
            "12/12 [==============================] - 0s 2ms/step - loss: 0.2060 - accuracy: 0.9250\n",
            "Epoch 108/150\n",
            "12/12 [==============================] - 0s 2ms/step - loss: 0.2042 - accuracy: 0.9333\n",
            "Epoch 109/150\n",
            "12/12 [==============================] - 0s 2ms/step - loss: 0.2032 - accuracy: 0.9250\n",
            "Epoch 110/150\n",
            "12/12 [==============================] - 0s 2ms/step - loss: 0.2015 - accuracy: 0.9333\n",
            "Epoch 111/150\n",
            "12/12 [==============================] - 0s 2ms/step - loss: 0.1999 - accuracy: 0.9333\n",
            "Epoch 112/150\n",
            "12/12 [==============================] - 0s 2ms/step - loss: 0.1987 - accuracy: 0.9333\n",
            "Epoch 113/150\n",
            "12/12 [==============================] - 0s 2ms/step - loss: 0.1974 - accuracy: 0.9417\n",
            "Epoch 114/150\n",
            "12/12 [==============================] - 0s 2ms/step - loss: 0.1956 - accuracy: 0.9417\n",
            "Epoch 115/150\n",
            "12/12 [==============================] - 0s 3ms/step - loss: 0.1943 - accuracy: 0.9417\n",
            "Epoch 116/150\n",
            "12/12 [==============================] - 0s 2ms/step - loss: 0.1931 - accuracy: 0.9417\n",
            "Epoch 117/150\n",
            "12/12 [==============================] - 0s 2ms/step - loss: 0.1916 - accuracy: 0.9417\n",
            "Epoch 118/150\n",
            "12/12 [==============================] - 0s 2ms/step - loss: 0.1904 - accuracy: 0.9417\n",
            "Epoch 119/150\n",
            "12/12 [==============================] - 0s 2ms/step - loss: 0.1891 - accuracy: 0.9417\n",
            "Epoch 120/150\n",
            "12/12 [==============================] - 0s 2ms/step - loss: 0.1878 - accuracy: 0.9417\n",
            "Epoch 121/150\n",
            "12/12 [==============================] - 0s 2ms/step - loss: 0.1866 - accuracy: 0.9417\n",
            "Epoch 122/150\n",
            "12/12 [==============================] - 0s 2ms/step - loss: 0.1853 - accuracy: 0.9417\n",
            "Epoch 123/150\n",
            "12/12 [==============================] - 0s 2ms/step - loss: 0.1841 - accuracy: 0.9417\n",
            "Epoch 124/150\n",
            "12/12 [==============================] - 0s 2ms/step - loss: 0.1827 - accuracy: 0.9417\n",
            "Epoch 125/150\n",
            "12/12 [==============================] - 0s 2ms/step - loss: 0.1814 - accuracy: 0.9417\n",
            "Epoch 126/150\n",
            "12/12 [==============================] - 0s 2ms/step - loss: 0.1802 - accuracy: 0.9417\n",
            "Epoch 127/150\n",
            "12/12 [==============================] - 0s 2ms/step - loss: 0.1796 - accuracy: 0.9417\n",
            "Epoch 128/150\n",
            "12/12 [==============================] - 0s 2ms/step - loss: 0.1779 - accuracy: 0.9417\n",
            "Epoch 129/150\n",
            "12/12 [==============================] - 0s 2ms/step - loss: 0.1766 - accuracy: 0.9417\n",
            "Epoch 130/150\n",
            "12/12 [==============================] - 0s 2ms/step - loss: 0.1758 - accuracy: 0.9417\n",
            "Epoch 131/150\n",
            "12/12 [==============================] - 0s 2ms/step - loss: 0.1746 - accuracy: 0.9417\n",
            "Epoch 132/150\n",
            "12/12 [==============================] - 0s 2ms/step - loss: 0.1734 - accuracy: 0.9417\n",
            "Epoch 133/150\n",
            "12/12 [==============================] - 0s 2ms/step - loss: 0.1722 - accuracy: 0.9417\n",
            "Epoch 134/150\n",
            "12/12 [==============================] - 0s 2ms/step - loss: 0.1712 - accuracy: 0.9417\n",
            "Epoch 135/150\n",
            "12/12 [==============================] - 0s 2ms/step - loss: 0.1701 - accuracy: 0.9417\n",
            "Epoch 136/150\n",
            "12/12 [==============================] - 0s 2ms/step - loss: 0.1688 - accuracy: 0.9500\n",
            "Epoch 137/150\n",
            "12/12 [==============================] - 0s 2ms/step - loss: 0.1678 - accuracy: 0.9500\n",
            "Epoch 138/150\n",
            "12/12 [==============================] - 0s 2ms/step - loss: 0.1673 - accuracy: 0.9500\n",
            "Epoch 139/150\n",
            "12/12 [==============================] - 0s 2ms/step - loss: 0.1658 - accuracy: 0.9500\n",
            "Epoch 140/150\n",
            "12/12 [==============================] - 0s 2ms/step - loss: 0.1649 - accuracy: 0.9500\n",
            "Epoch 141/150\n",
            "12/12 [==============================] - 0s 2ms/step - loss: 0.1638 - accuracy: 0.9500\n",
            "Epoch 142/150\n",
            "12/12 [==============================] - 0s 2ms/step - loss: 0.1627 - accuracy: 0.9500\n",
            "Epoch 143/150\n",
            "12/12 [==============================] - 0s 2ms/step - loss: 0.1619 - accuracy: 0.9500\n",
            "Epoch 144/150\n",
            "12/12 [==============================] - 0s 2ms/step - loss: 0.1608 - accuracy: 0.9500\n",
            "Epoch 145/150\n",
            "12/12 [==============================] - 0s 2ms/step - loss: 0.1603 - accuracy: 0.9500\n",
            "Epoch 146/150\n",
            "12/12 [==============================] - 0s 2ms/step - loss: 0.1590 - accuracy: 0.9500\n",
            "Epoch 147/150\n",
            "12/12 [==============================] - 0s 2ms/step - loss: 0.1583 - accuracy: 0.9500\n",
            "Epoch 148/150\n",
            "12/12 [==============================] - 0s 3ms/step - loss: 0.1575 - accuracy: 0.9500\n",
            "Epoch 149/150\n",
            "12/12 [==============================] - 0s 2ms/step - loss: 0.1565 - accuracy: 0.9500\n",
            "Epoch 150/150\n",
            "12/12 [==============================] - 0s 2ms/step - loss: 0.1554 - accuracy: 0.9583\n"
          ]
        },
        {
          "output_type": "execute_result",
          "data": {
            "text/plain": [
              "<keras.callbacks.History at 0x7f1f80914f10>"
            ]
          },
          "metadata": {},
          "execution_count": 92
        }
      ]
    },
    {
      "cell_type": "code",
      "metadata": {
        "id": "HEYc937LQkJk"
      },
      "source": [
        "import numpy as np"
      ],
      "execution_count": null,
      "outputs": []
    },
    {
      "cell_type": "code",
      "metadata": {
        "id": "uKnK0px-OeRO"
      },
      "source": [
        "y_pred = classifier.predict(X_test)\n",
        "y_test_class = np.argmax(y_test,axis=1)\n",
        "y_pred_class = np.argmax(y_pred,axis=1)"
      ],
      "execution_count": null,
      "outputs": []
    },
    {
      "cell_type": "code",
      "metadata": {
        "colab": {
          "base_uri": "https://localhost:8080/"
        },
        "id": "iqjfgysTQhnH",
        "outputId": "a2120762-14a8-4600-fc96-c082688ab87f"
      },
      "source": [
        "from sklearn.metrics import classification_report,confusion_matrix\n",
        "print(classification_report(y_test_class,y_pred_class))\n",
        "print(confusion_matrix(y_test_class,y_pred_class))"
      ],
      "execution_count": null,
      "outputs": [
        {
          "output_type": "stream",
          "name": "stdout",
          "text": [
            "              precision    recall  f1-score   support\n",
            "\n",
            "           0       1.00      1.00      1.00        11\n",
            "           1       1.00      1.00      1.00        13\n",
            "           2       1.00      1.00      1.00         6\n",
            "\n",
            "    accuracy                           1.00        30\n",
            "   macro avg       1.00      1.00      1.00        30\n",
            "weighted avg       1.00      1.00      1.00        30\n",
            "\n",
            "[[11  0  0]\n",
            " [ 0 13  0]\n",
            " [ 0  0  6]]\n"
          ]
        }
      ]
    },
    {
      "cell_type": "code",
      "metadata": {
        "id": "IkTS7FtWQozI"
      },
      "source": [
        "accuracy = (11 + 13 + 6)/30"
      ],
      "execution_count": null,
      "outputs": []
    },
    {
      "cell_type": "code",
      "metadata": {
        "colab": {
          "base_uri": "https://localhost:8080/"
        },
        "id": "cs3bk9ymRaEc",
        "outputId": "519fa127-3784-46bc-9eee-bae598a13154"
      },
      "source": [
        "print(accuracy)"
      ],
      "execution_count": null,
      "outputs": [
        {
          "output_type": "stream",
          "name": "stdout",
          "text": [
            "1.0\n"
          ]
        }
      ]
    },
    {
      "cell_type": "markdown",
      "metadata": {
        "id": "5Lrlnh0sRkqL"
      },
      "source": [
        "#Wisconsin Breast Cancer Dataset"
      ]
    },
    {
      "cell_type": "code",
      "metadata": {
        "colab": {
          "resources": {
            "http://localhost:8080/nbextensions/google.colab/files.js": {
              "data": "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",
              "ok": true,
              "headers": [
                [
                  "content-type",
                  "application/javascript"
                ]
              ],
              "status": 200,
              "status_text": ""
            }
          },
          "base_uri": "https://localhost:8080/",
          "height": 91
        },
        "id": "gbepqqtpRbV4",
        "outputId": "0aaef1f4-7f99-4460-8df8-7802afccaf9d"
      },
      "source": [
        "uploaded = files.upload()\n",
        "\n",
        "for fn in uploaded.keys():\n",
        "  print('User uploaded file \"{name}\" with length {length} bytes'.format(\n",
        "      name=fn, length=len(uploaded[fn])))"
      ],
      "execution_count": null,
      "outputs": [
        {
          "output_type": "display_data",
          "data": {
            "text/html": [
              "\n",
              "     <input type=\"file\" id=\"files-6a48e6d1-8fa5-4768-8b29-80f6b6d23776\" name=\"files[]\" multiple disabled\n",
              "        style=\"border:none\" />\n",
              "     <output id=\"result-6a48e6d1-8fa5-4768-8b29-80f6b6d23776\">\n",
              "      Upload widget is only available when the cell has been executed in the\n",
              "      current browser session. Please rerun this cell to enable.\n",
              "      </output>\n",
              "      <script src=\"/nbextensions/google.colab/files.js\"></script> "
            ],
            "text/plain": [
              "<IPython.core.display.HTML object>"
            ]
          },
          "metadata": {}
        },
        {
          "output_type": "stream",
          "name": "stdout",
          "text": [
            "Saving breast_cancer.csv to breast_cancer (1).csv\n",
            "User uploaded file \"breast_cancer.csv\" with length 125204 bytes\n"
          ]
        }
      ]
    },
    {
      "cell_type": "code",
      "metadata": {
        "colab": {
          "base_uri": "https://localhost:8080/",
          "height": 243
        },
        "id": "sAN_wwosTrlh",
        "outputId": "63d196db-011d-4080-e1d8-04d62bac703e"
      },
      "source": [
        "cancer=pd.read_csv(io.StringIO(uploaded['breast_cancer.csv'].decode('utf-8')))\n",
        "cancer.head()"
      ],
      "execution_count": null,
      "outputs": [
        {
          "output_type": "execute_result",
          "data": {
            "text/html": [
              "<div>\n",
              "<style scoped>\n",
              "    .dataframe tbody tr th:only-of-type {\n",
              "        vertical-align: middle;\n",
              "    }\n",
              "\n",
              "    .dataframe tbody tr th {\n",
              "        vertical-align: top;\n",
              "    }\n",
              "\n",
              "    .dataframe thead th {\n",
              "        text-align: right;\n",
              "    }\n",
              "</style>\n",
              "<table border=\"1\" class=\"dataframe\">\n",
              "  <thead>\n",
              "    <tr style=\"text-align: right;\">\n",
              "      <th></th>\n",
              "      <th>id</th>\n",
              "      <th>diagnosis</th>\n",
              "      <th>radius_mean</th>\n",
              "      <th>texture_mean</th>\n",
              "      <th>perimeter_mean</th>\n",
              "      <th>area_mean</th>\n",
              "      <th>smoothness_mean</th>\n",
              "      <th>compactness_mean</th>\n",
              "      <th>concavity_mean</th>\n",
              "      <th>concave points_mean</th>\n",
              "      <th>symmetry_mean</th>\n",
              "      <th>fractal_dimension_mean</th>\n",
              "      <th>radius_se</th>\n",
              "      <th>texture_se</th>\n",
              "      <th>perimeter_se</th>\n",
              "      <th>area_se</th>\n",
              "      <th>smoothness_se</th>\n",
              "      <th>compactness_se</th>\n",
              "      <th>concavity_se</th>\n",
              "      <th>concave points_se</th>\n",
              "      <th>symmetry_se</th>\n",
              "      <th>fractal_dimension_se</th>\n",
              "      <th>radius_worst</th>\n",
              "      <th>texture_worst</th>\n",
              "      <th>perimeter_worst</th>\n",
              "      <th>area_worst</th>\n",
              "      <th>smoothness_worst</th>\n",
              "      <th>compactness_worst</th>\n",
              "      <th>concavity_worst</th>\n",
              "      <th>concave points_worst</th>\n",
              "      <th>symmetry_worst</th>\n",
              "      <th>fractal_dimension_worst</th>\n",
              "      <th>Unnamed: 32</th>\n",
              "    </tr>\n",
              "  </thead>\n",
              "  <tbody>\n",
              "    <tr>\n",
              "      <th>0</th>\n",
              "      <td>842302</td>\n",
              "      <td>M</td>\n",
              "      <td>17.99</td>\n",
              "      <td>10.38</td>\n",
              "      <td>122.80</td>\n",
              "      <td>1001.0</td>\n",
              "      <td>0.11840</td>\n",
              "      <td>0.27760</td>\n",
              "      <td>0.3001</td>\n",
              "      <td>0.14710</td>\n",
              "      <td>0.2419</td>\n",
              "      <td>0.07871</td>\n",
              "      <td>1.0950</td>\n",
              "      <td>0.9053</td>\n",
              "      <td>8.589</td>\n",
              "      <td>153.40</td>\n",
              "      <td>0.006399</td>\n",
              "      <td>0.04904</td>\n",
              "      <td>0.05373</td>\n",
              "      <td>0.01587</td>\n",
              "      <td>0.03003</td>\n",
              "      <td>0.006193</td>\n",
              "      <td>25.38</td>\n",
              "      <td>17.33</td>\n",
              "      <td>184.60</td>\n",
              "      <td>2019.0</td>\n",
              "      <td>0.1622</td>\n",
              "      <td>0.6656</td>\n",
              "      <td>0.7119</td>\n",
              "      <td>0.2654</td>\n",
              "      <td>0.4601</td>\n",
              "      <td>0.11890</td>\n",
              "      <td>NaN</td>\n",
              "    </tr>\n",
              "    <tr>\n",
              "      <th>1</th>\n",
              "      <td>842517</td>\n",
              "      <td>M</td>\n",
              "      <td>20.57</td>\n",
              "      <td>17.77</td>\n",
              "      <td>132.90</td>\n",
              "      <td>1326.0</td>\n",
              "      <td>0.08474</td>\n",
              "      <td>0.07864</td>\n",
              "      <td>0.0869</td>\n",
              "      <td>0.07017</td>\n",
              "      <td>0.1812</td>\n",
              "      <td>0.05667</td>\n",
              "      <td>0.5435</td>\n",
              "      <td>0.7339</td>\n",
              "      <td>3.398</td>\n",
              "      <td>74.08</td>\n",
              "      <td>0.005225</td>\n",
              "      <td>0.01308</td>\n",
              "      <td>0.01860</td>\n",
              "      <td>0.01340</td>\n",
              "      <td>0.01389</td>\n",
              "      <td>0.003532</td>\n",
              "      <td>24.99</td>\n",
              "      <td>23.41</td>\n",
              "      <td>158.80</td>\n",
              "      <td>1956.0</td>\n",
              "      <td>0.1238</td>\n",
              "      <td>0.1866</td>\n",
              "      <td>0.2416</td>\n",
              "      <td>0.1860</td>\n",
              "      <td>0.2750</td>\n",
              "      <td>0.08902</td>\n",
              "      <td>NaN</td>\n",
              "    </tr>\n",
              "    <tr>\n",
              "      <th>2</th>\n",
              "      <td>84300903</td>\n",
              "      <td>M</td>\n",
              "      <td>19.69</td>\n",
              "      <td>21.25</td>\n",
              "      <td>130.00</td>\n",
              "      <td>1203.0</td>\n",
              "      <td>0.10960</td>\n",
              "      <td>0.15990</td>\n",
              "      <td>0.1974</td>\n",
              "      <td>0.12790</td>\n",
              "      <td>0.2069</td>\n",
              "      <td>0.05999</td>\n",
              "      <td>0.7456</td>\n",
              "      <td>0.7869</td>\n",
              "      <td>4.585</td>\n",
              "      <td>94.03</td>\n",
              "      <td>0.006150</td>\n",
              "      <td>0.04006</td>\n",
              "      <td>0.03832</td>\n",
              "      <td>0.02058</td>\n",
              "      <td>0.02250</td>\n",
              "      <td>0.004571</td>\n",
              "      <td>23.57</td>\n",
              "      <td>25.53</td>\n",
              "      <td>152.50</td>\n",
              "      <td>1709.0</td>\n",
              "      <td>0.1444</td>\n",
              "      <td>0.4245</td>\n",
              "      <td>0.4504</td>\n",
              "      <td>0.2430</td>\n",
              "      <td>0.3613</td>\n",
              "      <td>0.08758</td>\n",
              "      <td>NaN</td>\n",
              "    </tr>\n",
              "    <tr>\n",
              "      <th>3</th>\n",
              "      <td>84348301</td>\n",
              "      <td>M</td>\n",
              "      <td>11.42</td>\n",
              "      <td>20.38</td>\n",
              "      <td>77.58</td>\n",
              "      <td>386.1</td>\n",
              "      <td>0.14250</td>\n",
              "      <td>0.28390</td>\n",
              "      <td>0.2414</td>\n",
              "      <td>0.10520</td>\n",
              "      <td>0.2597</td>\n",
              "      <td>0.09744</td>\n",
              "      <td>0.4956</td>\n",
              "      <td>1.1560</td>\n",
              "      <td>3.445</td>\n",
              "      <td>27.23</td>\n",
              "      <td>0.009110</td>\n",
              "      <td>0.07458</td>\n",
              "      <td>0.05661</td>\n",
              "      <td>0.01867</td>\n",
              "      <td>0.05963</td>\n",
              "      <td>0.009208</td>\n",
              "      <td>14.91</td>\n",
              "      <td>26.50</td>\n",
              "      <td>98.87</td>\n",
              "      <td>567.7</td>\n",
              "      <td>0.2098</td>\n",
              "      <td>0.8663</td>\n",
              "      <td>0.6869</td>\n",
              "      <td>0.2575</td>\n",
              "      <td>0.6638</td>\n",
              "      <td>0.17300</td>\n",
              "      <td>NaN</td>\n",
              "    </tr>\n",
              "    <tr>\n",
              "      <th>4</th>\n",
              "      <td>84358402</td>\n",
              "      <td>M</td>\n",
              "      <td>20.29</td>\n",
              "      <td>14.34</td>\n",
              "      <td>135.10</td>\n",
              "      <td>1297.0</td>\n",
              "      <td>0.10030</td>\n",
              "      <td>0.13280</td>\n",
              "      <td>0.1980</td>\n",
              "      <td>0.10430</td>\n",
              "      <td>0.1809</td>\n",
              "      <td>0.05883</td>\n",
              "      <td>0.7572</td>\n",
              "      <td>0.7813</td>\n",
              "      <td>5.438</td>\n",
              "      <td>94.44</td>\n",
              "      <td>0.011490</td>\n",
              "      <td>0.02461</td>\n",
              "      <td>0.05688</td>\n",
              "      <td>0.01885</td>\n",
              "      <td>0.01756</td>\n",
              "      <td>0.005115</td>\n",
              "      <td>22.54</td>\n",
              "      <td>16.67</td>\n",
              "      <td>152.20</td>\n",
              "      <td>1575.0</td>\n",
              "      <td>0.1374</td>\n",
              "      <td>0.2050</td>\n",
              "      <td>0.4000</td>\n",
              "      <td>0.1625</td>\n",
              "      <td>0.2364</td>\n",
              "      <td>0.07678</td>\n",
              "      <td>NaN</td>\n",
              "    </tr>\n",
              "  </tbody>\n",
              "</table>\n",
              "</div>"
            ],
            "text/plain": [
              "         id diagnosis  ...  fractal_dimension_worst  Unnamed: 32\n",
              "0    842302         M  ...                  0.11890          NaN\n",
              "1    842517         M  ...                  0.08902          NaN\n",
              "2  84300903         M  ...                  0.08758          NaN\n",
              "3  84348301         M  ...                  0.17300          NaN\n",
              "4  84358402         M  ...                  0.07678          NaN\n",
              "\n",
              "[5 rows x 33 columns]"
            ]
          },
          "metadata": {},
          "execution_count": 99
        }
      ]
    },
    {
      "cell_type": "code",
      "metadata": {
        "id": "QtMZHOGjT01Q"
      },
      "source": [
        "# Importing data\n",
        "del cancer['Unnamed: 32']"
      ],
      "execution_count": null,
      "outputs": []
    },
    {
      "cell_type": "code",
      "metadata": {
        "colab": {
          "base_uri": "https://localhost:8080/",
          "height": 369
        },
        "id": "9NI6oF26T8BN",
        "outputId": "1b0803e2-e785-4a4b-ccf1-0d793c5d1bad"
      },
      "source": [
        "ax = sns.countplot(cancer['diagnosis'], label= 'Count')\n",
        "benign,malignant = cancer['diagnosis'].value_counts()\n",
        "print('Benign', benign)\n",
        "print('Malignant', malignant)"
      ],
      "execution_count": null,
      "outputs": [
        {
          "output_type": "stream",
          "name": "stdout",
          "text": [
            "Benign 357\n",
            "Malignant 212\n"
          ]
        },
        {
          "output_type": "stream",
          "name": "stderr",
          "text": [
            "/usr/local/lib/python3.7/dist-packages/seaborn/_decorators.py:43: FutureWarning: Pass the following variable as a keyword arg: x. From version 0.12, the only valid positional argument will be `data`, and passing other arguments without an explicit keyword will result in an error or misinterpretation.\n",
            "  FutureWarning\n"
          ]
        },
        {
          "output_type": "display_data",
          "data": {
            "image/png": "[encoded data removed]",
            "text/plain": [
              "<Figure size 432x288 with 1 Axes>"
            ]
          },
          "metadata": {
            "needs_background": "light"
          }
        }
      ]
    },
    {
      "cell_type": "code",
      "metadata": {
        "id": "aiaEGRV_UGNn"
      },
      "source": [
        "X = cancer.iloc[:, 2:].values\n",
        "y = cancer.iloc[:, 1].values\n",
        "\n",
        "# Encoding categorical data\n",
        "labelencoder_X_1 = LabelEncoder()\n",
        "y = labelencoder_X_1.fit_transform(y)\n",
        "#Y = pd.get_dummies(y1).values\n",
        "\n",
        "# Splitting the dataset into the Training set and Test set\n",
        "X_train, X_test, y_train, y_test = train_test_split(X, y, test_size = 0.2, random_state = 0)\n",
        "\n",
        "#Feature Scaling\n",
        "sc = StandardScaler()\n",
        "X_train = sc.fit_transform(X_train)\n",
        "X_test = sc.transform(X_test)"
      ],
      "execution_count": null,
      "outputs": []
    },
    {
      "cell_type": "code",
      "metadata": {
        "colab": {
          "base_uri": "https://localhost:8080/"
        },
        "id": "zXEQjyIzUYbs",
        "outputId": "9e4ab442-da89-4aba-9838-4c2070eca4ac"
      },
      "source": [
        "X_train"
      ],
      "execution_count": null,
      "outputs": [
        {
          "output_type": "execute_result",
          "data": {
            "text/plain": [
              "array([[-1.15036482, -0.39064196, -1.12855021, ..., -0.75798367,\n",
              "        -0.01614761, -0.38503402],\n",
              "       [-0.93798972,  0.68051405, -0.94820146, ..., -0.60687023,\n",
              "         0.09669004, -0.38615797],\n",
              "       [ 0.574121  , -1.03333557,  0.51394098, ..., -0.02371948,\n",
              "        -0.20050207, -0.75144254],\n",
              "       ...,\n",
              "       [-1.32422924, -0.20048168, -1.31754581, ..., -0.97974953,\n",
              "        -0.71542314, -0.11978123],\n",
              "       [-1.24380987, -0.2245526 , -1.28007609, ..., -1.75401433,\n",
              "        -1.58157125, -1.00601779],\n",
              "       [-0.73694129,  1.14989702, -0.71226578, ..., -0.27460457,\n",
              "        -1.25895095,  0.21515662]])"
            ]
          },
          "metadata": {},
          "execution_count": 137
        }
      ]
    },
    {
      "cell_type": "code",
      "metadata": {
        "colab": {
          "base_uri": "https://localhost:8080/"
        },
        "id": "dKjOSZGAUbh2",
        "outputId": "02048cc2-1eb1-4a32-a96d-72c731ff68f0"
      },
      "source": [
        "X_test"
      ],
      "execution_count": null,
      "outputs": [
        {
          "output_type": "execute_result",
          "data": {
            "text/plain": [
              "array([[-0.20175604,  0.3290786 , -0.13086754, ...,  1.3893291 ,\n",
              "         1.08203284,  1.54029664],\n",
              "       [-0.25555773,  1.46763319, -0.31780437, ..., -0.83369364,\n",
              "        -0.73131577, -0.87732522],\n",
              "       [-0.02619262, -0.8407682 , -0.09175081, ..., -0.49483785,\n",
              "        -1.22080864, -0.92115937],\n",
              "       ...,\n",
              "       [ 1.71811488,  0.09318356,  1.7286186 , ...,  1.57630515,\n",
              "         0.20317063, -0.15406178],\n",
              "       [ 1.18859296,  0.34352115,  1.19333694, ...,  0.56019755,\n",
              "         0.26991966, -0.27320074],\n",
              "       [ 0.26263752, -0.58080224,  0.28459338, ..., -0.19383705,\n",
              "        -1.15564888,  0.11231497]])"
            ]
          },
          "metadata": {},
          "execution_count": 138
        }
      ]
    },
    {
      "cell_type": "code",
      "metadata": {
        "colab": {
          "base_uri": "https://localhost:8080/"
        },
        "id": "A-ICSTgmUdX6",
        "outputId": "1831fc00-4404-48d0-d7ba-36dbdf127399"
      },
      "source": [
        "y_train"
      ],
      "execution_count": null,
      "outputs": [
        {
          "output_type": "execute_result",
          "data": {
            "text/plain": [
              "array([0, 0, 0, 0, 0, 0, 0, 0, 1, 0, 1, 0, 0, 0, 0, 0, 1, 0, 0, 0, 0, 0,\n",
              "       0, 1, 1, 0, 0, 0, 1, 0, 0, 1, 0, 1, 0, 0, 0, 0, 0, 0, 0, 1, 0, 1,\n",
              "       0, 1, 1, 0, 0, 1, 0, 1, 1, 1, 0, 0, 0, 0, 0, 0, 1, 0, 0, 0, 0, 1,\n",
              "       1, 0, 0, 1, 0, 0, 0, 0, 1, 0, 0, 1, 1, 0, 0, 1, 1, 0, 0, 1, 0, 0,\n",
              "       1, 1, 1, 0, 0, 0, 1, 0, 0, 0, 0, 0, 1, 0, 1, 0, 1, 0, 1, 0, 1, 0,\n",
              "       0, 0, 0, 1, 0, 1, 0, 0, 0, 1, 0, 0, 0, 1, 0, 0, 1, 1, 0, 1, 0, 1,\n",
              "       0, 1, 1, 1, 1, 0, 1, 0, 1, 0, 1, 0, 1, 0, 0, 1, 0, 0, 0, 0, 0, 0,\n",
              "       0, 0, 0, 0, 0, 0, 0, 1, 0, 0, 0, 1, 0, 0, 0, 0, 0, 0, 1, 0, 1, 0,\n",
              "       0, 1, 0, 1, 1, 0, 1, 1, 0, 0, 1, 0, 0, 0, 1, 0, 0, 0, 0, 0, 1, 1,\n",
              "       0, 0, 0, 0, 1, 1, 0, 0, 0, 0, 1, 0, 0, 1, 0, 0, 1, 0, 1, 0, 0, 0,\n",
              "       0, 1, 1, 1, 1, 0, 1, 0, 1, 1, 0, 0, 0, 0, 0, 1, 0, 0, 1, 0, 0, 1,\n",
              "       1, 0, 0, 0, 1, 1, 0, 0, 1, 0, 0, 0, 1, 0, 1, 0, 1, 1, 1, 1, 0, 0,\n",
              "       0, 0, 1, 1, 0, 0, 0, 0, 0, 1, 0, 0, 1, 0, 0, 1, 1, 1, 1, 0, 0, 1,\n",
              "       0, 0, 0, 1, 1, 0, 0, 0, 0, 0, 1, 1, 1, 0, 1, 1, 0, 0, 0, 0, 0, 0,\n",
              "       1, 0, 0, 0, 0, 0, 0, 1, 1, 0, 1, 0, 1, 1, 0, 0, 0, 0, 0, 1, 1, 1,\n",
              "       0, 0, 1, 1, 0, 0, 1, 0, 1, 1, 0, 1, 0, 0, 0, 0, 0, 0, 0, 1, 1, 0,\n",
              "       0, 0, 1, 0, 0, 0, 0, 1, 0, 1, 1, 1, 0, 1, 0, 1, 0, 1, 1, 0, 0, 0,\n",
              "       0, 0, 0, 0, 0, 1, 1, 1, 1, 1, 0, 0, 0, 0, 0, 0, 0, 1, 0, 1, 0, 0,\n",
              "       0, 0, 0, 1, 1, 1, 0, 1, 0, 0, 1, 1, 1, 1, 0, 1, 1, 1, 0, 1, 0, 1,\n",
              "       0, 0, 1, 1, 0, 1, 0, 0, 0, 0, 1, 0, 0, 1, 0, 0, 0, 1, 1, 0, 0, 0,\n",
              "       1, 0, 0, 1, 0, 0, 0, 0, 0, 1, 1, 1, 0, 0, 0])"
            ]
          },
          "metadata": {},
          "execution_count": 139
        }
      ]
    },
    {
      "cell_type": "code",
      "metadata": {
        "colab": {
          "base_uri": "https://localhost:8080/"
        },
        "id": "4fVeBGd6Uewp",
        "outputId": "b2d66a0e-5dc2-4bea-964f-ea8edc573122"
      },
      "source": [
        "y_test"
      ],
      "execution_count": null,
      "outputs": [
        {
          "output_type": "execute_result",
          "data": {
            "text/plain": [
              "array([1, 0, 0, 0, 0, 0, 0, 0, 0, 0, 0, 0, 0, 0, 0, 1, 0, 1, 1, 1, 1, 1,\n",
              "       0, 0, 1, 0, 0, 1, 0, 1, 0, 1, 0, 1, 0, 1, 0, 1, 0, 1, 1, 0, 1, 0,\n",
              "       0, 1, 0, 0, 0, 1, 1, 1, 1, 0, 0, 0, 0, 0, 0, 1, 1, 1, 0, 0, 1, 0,\n",
              "       1, 1, 1, 0, 0, 1, 0, 1, 1, 0, 0, 0, 0, 0, 1, 1, 1, 0, 1, 0, 0, 0,\n",
              "       1, 1, 0, 1, 0, 1, 0, 0, 1, 0, 0, 0, 0, 0, 0, 0, 1, 0, 1, 0, 1, 1,\n",
              "       0, 1, 1, 0])"
            ]
          },
          "metadata": {},
          "execution_count": 140
        }
      ]
    },
    {
      "cell_type": "code",
      "metadata": {
        "id": "7sNPyEcOWdAb"
      },
      "source": [
        "classifier = Sequential()\n",
        "classifier.add(Dense(16, activation='relu',input_shape=(30,)))\n",
        "classifier.add(Dropout(rate=0.1))\n",
        "\n",
        "#adding the second hidden layer\n",
        "classifier.add(Dense(16, activation='relu'))\n",
        "classifier.add(Dropout(rate=0.1))\n",
        "\n",
        "#adding the output layer\n",
        "classifier.add(Dense(1, activation='sigmoid'))"
      ],
      "execution_count": null,
      "outputs": []
    },
    {
      "cell_type": "code",
      "metadata": {
        "id": "HTi48ZX6Ugf5"
      },
      "source": [
        "classifier.compile(optimizer=\"adam\", loss='binary_crossentropy', metrics=['accuracy'])"
      ],
      "execution_count": null,
      "outputs": []
    },
    {
      "cell_type": "code",
      "metadata": {
        "colab": {
          "base_uri": "https://localhost:8080/"
        },
        "id": "IXD1TxduV2mO",
        "outputId": "1c18b89f-d238-40d4-b53e-9091931ef3a2"
      },
      "source": [
        "classifier.fit(X_train, y_train, batch_size=50, epochs=100)"
      ],
      "execution_count": null,
      "outputs": [
        {
          "output_type": "stream",
          "name": "stdout",
          "text": [
            "Epoch 1/100\n",
            "10/10 [==============================] - 1s 2ms/step - loss: 1.0015 - accuracy: 0.3648\n",
            "Epoch 2/100\n",
            "10/10 [==============================] - 0s 4ms/step - loss: 0.8192 - accuracy: 0.4066\n",
            "Epoch 3/100\n",
            "10/10 [==============================] - 0s 2ms/step - loss: 0.6932 - accuracy: 0.4967\n",
            "Epoch 4/100\n",
            "10/10 [==============================] - 0s 2ms/step - loss: 0.5969 - accuracy: 0.6637\n",
            "Epoch 5/100\n",
            "10/10 [==============================] - 0s 2ms/step - loss: 0.5227 - accuracy: 0.7626\n",
            "Epoch 6/100\n",
            "10/10 [==============================] - 0s 2ms/step - loss: 0.4575 - accuracy: 0.8418\n",
            "Epoch 7/100\n",
            "10/10 [==============================] - 0s 3ms/step - loss: 0.4153 - accuracy: 0.8484\n",
            "Epoch 8/100\n",
            "10/10 [==============================] - 0s 2ms/step - loss: 0.3630 - accuracy: 0.8989\n",
            "Epoch 9/100\n",
            "10/10 [==============================] - 0s 2ms/step - loss: 0.3053 - accuracy: 0.9341\n",
            "Epoch 10/100\n",
            "10/10 [==============================] - 0s 2ms/step - loss: 0.2736 - accuracy: 0.9473\n",
            "Epoch 11/100\n",
            "10/10 [==============================] - 0s 2ms/step - loss: 0.2386 - accuracy: 0.9516\n",
            "Epoch 12/100\n",
            "10/10 [==============================] - 0s 3ms/step - loss: 0.2099 - accuracy: 0.9538\n",
            "Epoch 13/100\n",
            "10/10 [==============================] - 0s 2ms/step - loss: 0.1887 - accuracy: 0.9516\n",
            "Epoch 14/100\n",
            "10/10 [==============================] - 0s 3ms/step - loss: 0.1690 - accuracy: 0.9604\n",
            "Epoch 15/100\n",
            "10/10 [==============================] - 0s 3ms/step - loss: 0.1562 - accuracy: 0.9670\n",
            "Epoch 16/100\n",
            "10/10 [==============================] - 0s 3ms/step - loss: 0.1503 - accuracy: 0.9670\n",
            "Epoch 17/100\n",
            "10/10 [==============================] - 0s 3ms/step - loss: 0.1324 - accuracy: 0.9626\n",
            "Epoch 18/100\n",
            "10/10 [==============================] - 0s 3ms/step - loss: 0.1305 - accuracy: 0.9670\n",
            "Epoch 19/100\n",
            "10/10 [==============================] - 0s 3ms/step - loss: 0.1233 - accuracy: 0.9604\n",
            "Epoch 20/100\n",
            "10/10 [==============================] - 0s 2ms/step - loss: 0.1189 - accuracy: 0.9692\n",
            "Epoch 21/100\n",
            "10/10 [==============================] - 0s 3ms/step - loss: 0.1172 - accuracy: 0.9648\n",
            "Epoch 22/100\n",
            "10/10 [==============================] - 0s 3ms/step - loss: 0.1094 - accuracy: 0.9714\n",
            "Epoch 23/100\n",
            "10/10 [==============================] - 0s 3ms/step - loss: 0.1150 - accuracy: 0.9604\n",
            "Epoch 24/100\n",
            "10/10 [==============================] - 0s 2ms/step - loss: 0.0985 - accuracy: 0.9626\n",
            "Epoch 25/100\n",
            "10/10 [==============================] - 0s 3ms/step - loss: 0.0992 - accuracy: 0.9692\n",
            "Epoch 26/100\n",
            "10/10 [==============================] - 0s 2ms/step - loss: 0.0946 - accuracy: 0.9736\n",
            "Epoch 27/100\n",
            "10/10 [==============================] - 0s 3ms/step - loss: 0.0996 - accuracy: 0.9626\n",
            "Epoch 28/100\n",
            "10/10 [==============================] - 0s 2ms/step - loss: 0.0951 - accuracy: 0.9736\n",
            "Epoch 29/100\n",
            "10/10 [==============================] - 0s 3ms/step - loss: 0.0875 - accuracy: 0.9780\n",
            "Epoch 30/100\n",
            "10/10 [==============================] - 0s 2ms/step - loss: 0.0887 - accuracy: 0.9714\n",
            "Epoch 31/100\n",
            "10/10 [==============================] - 0s 3ms/step - loss: 0.0833 - accuracy: 0.9758\n",
            "Epoch 32/100\n",
            "10/10 [==============================] - 0s 2ms/step - loss: 0.0804 - accuracy: 0.9780\n",
            "Epoch 33/100\n",
            "10/10 [==============================] - 0s 2ms/step - loss: 0.0859 - accuracy: 0.9714\n",
            "Epoch 34/100\n",
            "10/10 [==============================] - 0s 3ms/step - loss: 0.0725 - accuracy: 0.9780\n",
            "Epoch 35/100\n",
            "10/10 [==============================] - 0s 2ms/step - loss: 0.0720 - accuracy: 0.9824\n",
            "Epoch 36/100\n",
            "10/10 [==============================] - 0s 3ms/step - loss: 0.0707 - accuracy: 0.9780\n",
            "Epoch 37/100\n",
            "10/10 [==============================] - 0s 3ms/step - loss: 0.0699 - accuracy: 0.9846\n",
            "Epoch 38/100\n",
            "10/10 [==============================] - 0s 2ms/step - loss: 0.0723 - accuracy: 0.9802\n",
            "Epoch 39/100\n",
            "10/10 [==============================] - 0s 3ms/step - loss: 0.0698 - accuracy: 0.9780\n",
            "Epoch 40/100\n",
            "10/10 [==============================] - 0s 3ms/step - loss: 0.0745 - accuracy: 0.9846\n",
            "Epoch 41/100\n",
            "10/10 [==============================] - 0s 3ms/step - loss: 0.0722 - accuracy: 0.9802\n",
            "Epoch 42/100\n",
            "10/10 [==============================] - 0s 3ms/step - loss: 0.0689 - accuracy: 0.9780\n",
            "Epoch 43/100\n",
            "10/10 [==============================] - 0s 3ms/step - loss: 0.0722 - accuracy: 0.9758\n",
            "Epoch 44/100\n",
            "10/10 [==============================] - 0s 2ms/step - loss: 0.0670 - accuracy: 0.9780\n",
            "Epoch 45/100\n",
            "10/10 [==============================] - 0s 3ms/step - loss: 0.0617 - accuracy: 0.9824\n",
            "Epoch 46/100\n",
            "10/10 [==============================] - 0s 2ms/step - loss: 0.0657 - accuracy: 0.9824\n",
            "Epoch 47/100\n",
            "10/10 [==============================] - 0s 2ms/step - loss: 0.0599 - accuracy: 0.9824\n",
            "Epoch 48/100\n",
            "10/10 [==============================] - 0s 2ms/step - loss: 0.0687 - accuracy: 0.9802\n",
            "Epoch 49/100\n",
            "10/10 [==============================] - 0s 2ms/step - loss: 0.0615 - accuracy: 0.9802\n",
            "Epoch 50/100\n",
            "10/10 [==============================] - 0s 2ms/step - loss: 0.0638 - accuracy: 0.9868\n",
            "Epoch 51/100\n",
            "10/10 [==============================] - 0s 2ms/step - loss: 0.0562 - accuracy: 0.9868\n",
            "Epoch 52/100\n",
            "10/10 [==============================] - 0s 3ms/step - loss: 0.0657 - accuracy: 0.9846\n",
            "Epoch 53/100\n",
            "10/10 [==============================] - 0s 2ms/step - loss: 0.0579 - accuracy: 0.9802\n",
            "Epoch 54/100\n",
            "10/10 [==============================] - 0s 3ms/step - loss: 0.0580 - accuracy: 0.9802\n",
            "Epoch 55/100\n",
            "10/10 [==============================] - 0s 3ms/step - loss: 0.0579 - accuracy: 0.9846\n",
            "Epoch 56/100\n",
            "10/10 [==============================] - 0s 3ms/step - loss: 0.0539 - accuracy: 0.9890\n",
            "Epoch 57/100\n",
            "10/10 [==============================] - 0s 3ms/step - loss: 0.0571 - accuracy: 0.9824\n",
            "Epoch 58/100\n",
            "10/10 [==============================] - 0s 2ms/step - loss: 0.0572 - accuracy: 0.9846\n",
            "Epoch 59/100\n",
            "10/10 [==============================] - 0s 2ms/step - loss: 0.0520 - accuracy: 0.9868\n",
            "Epoch 60/100\n",
            "10/10 [==============================] - 0s 2ms/step - loss: 0.0603 - accuracy: 0.9824\n",
            "Epoch 61/100\n",
            "10/10 [==============================] - 0s 2ms/step - loss: 0.0536 - accuracy: 0.9846\n",
            "Epoch 62/100\n",
            "10/10 [==============================] - 0s 3ms/step - loss: 0.0525 - accuracy: 0.9846\n",
            "Epoch 63/100\n",
            "10/10 [==============================] - 0s 2ms/step - loss: 0.0537 - accuracy: 0.9824\n",
            "Epoch 64/100\n",
            "10/10 [==============================] - 0s 2ms/step - loss: 0.0515 - accuracy: 0.9802\n",
            "Epoch 65/100\n",
            "10/10 [==============================] - 0s 2ms/step - loss: 0.0516 - accuracy: 0.9824\n",
            "Epoch 66/100\n",
            "10/10 [==============================] - 0s 3ms/step - loss: 0.0493 - accuracy: 0.9868\n",
            "Epoch 67/100\n",
            "10/10 [==============================] - 0s 2ms/step - loss: 0.0482 - accuracy: 0.9846\n",
            "Epoch 68/100\n",
            "10/10 [==============================] - 0s 2ms/step - loss: 0.0510 - accuracy: 0.9824\n",
            "Epoch 69/100\n",
            "10/10 [==============================] - 0s 3ms/step - loss: 0.0497 - accuracy: 0.9846\n",
            "Epoch 70/100\n",
            "10/10 [==============================] - 0s 2ms/step - loss: 0.0463 - accuracy: 0.9912\n",
            "Epoch 71/100\n",
            "10/10 [==============================] - 0s 2ms/step - loss: 0.0395 - accuracy: 0.9912\n",
            "Epoch 72/100\n",
            "10/10 [==============================] - 0s 2ms/step - loss: 0.0486 - accuracy: 0.9868\n",
            "Epoch 73/100\n",
            "10/10 [==============================] - 0s 3ms/step - loss: 0.0527 - accuracy: 0.9890\n",
            "Epoch 74/100\n",
            "10/10 [==============================] - 0s 2ms/step - loss: 0.0485 - accuracy: 0.9890\n",
            "Epoch 75/100\n",
            "10/10 [==============================] - 0s 2ms/step - loss: 0.0478 - accuracy: 0.9824\n",
            "Epoch 76/100\n",
            "10/10 [==============================] - 0s 2ms/step - loss: 0.0434 - accuracy: 0.9868\n",
            "Epoch 77/100\n",
            "10/10 [==============================] - 0s 2ms/step - loss: 0.0411 - accuracy: 0.9890\n",
            "Epoch 78/100\n",
            "10/10 [==============================] - 0s 3ms/step - loss: 0.0471 - accuracy: 0.9846\n",
            "Epoch 79/100\n",
            "10/10 [==============================] - 0s 2ms/step - loss: 0.0465 - accuracy: 0.9824\n",
            "Epoch 80/100\n",
            "10/10 [==============================] - 0s 2ms/step - loss: 0.0403 - accuracy: 0.9846\n",
            "Epoch 81/100\n",
            "10/10 [==============================] - 0s 3ms/step - loss: 0.0479 - accuracy: 0.9846\n",
            "Epoch 82/100\n",
            "10/10 [==============================] - 0s 2ms/step - loss: 0.0420 - accuracy: 0.9912\n",
            "Epoch 83/100\n",
            "10/10 [==============================] - 0s 2ms/step - loss: 0.0403 - accuracy: 0.9890\n",
            "Epoch 84/100\n",
            "10/10 [==============================] - 0s 2ms/step - loss: 0.0420 - accuracy: 0.9890\n",
            "Epoch 85/100\n",
            "10/10 [==============================] - 0s 2ms/step - loss: 0.0393 - accuracy: 0.9890\n",
            "Epoch 86/100\n",
            "10/10 [==============================] - 0s 3ms/step - loss: 0.0382 - accuracy: 0.9890\n",
            "Epoch 87/100\n",
            "10/10 [==============================] - 0s 3ms/step - loss: 0.0391 - accuracy: 0.9890\n",
            "Epoch 88/100\n",
            "10/10 [==============================] - 0s 3ms/step - loss: 0.0443 - accuracy: 0.9846\n",
            "Epoch 89/100\n",
            "10/10 [==============================] - 0s 2ms/step - loss: 0.0368 - accuracy: 0.9890\n",
            "Epoch 90/100\n",
            "10/10 [==============================] - 0s 2ms/step - loss: 0.0374 - accuracy: 0.9868\n",
            "Epoch 91/100\n",
            "10/10 [==============================] - 0s 2ms/step - loss: 0.0360 - accuracy: 0.9890\n",
            "Epoch 92/100\n",
            "10/10 [==============================] - 0s 2ms/step - loss: 0.0401 - accuracy: 0.9868\n",
            "Epoch 93/100\n",
            "10/10 [==============================] - 0s 2ms/step - loss: 0.0363 - accuracy: 0.9890\n",
            "Epoch 94/100\n",
            "10/10 [==============================] - 0s 2ms/step - loss: 0.0377 - accuracy: 0.9868\n",
            "Epoch 95/100\n",
            "10/10 [==============================] - 0s 2ms/step - loss: 0.0359 - accuracy: 0.9868\n",
            "Epoch 96/100\n",
            "10/10 [==============================] - 0s 2ms/step - loss: 0.0477 - accuracy: 0.9824\n",
            "Epoch 97/100\n",
            "10/10 [==============================] - 0s 2ms/step - loss: 0.0320 - accuracy: 0.9912\n",
            "Epoch 98/100\n",
            "10/10 [==============================] - 0s 4ms/step - loss: 0.0369 - accuracy: 0.9868\n",
            "Epoch 99/100\n",
            "10/10 [==============================] - 0s 2ms/step - loss: 0.0346 - accuracy: 0.9912\n",
            "Epoch 100/100\n",
            "10/10 [==============================] - 0s 2ms/step - loss: 0.0465 - accuracy: 0.9868\n"
          ]
        },
        {
          "output_type": "execute_result",
          "data": {
            "text/plain": [
              "<keras.callbacks.History at 0x7f1f86161950>"
            ]
          },
          "metadata": {},
          "execution_count": 182
        }
      ]
    },
    {
      "cell_type": "code",
      "metadata": {
        "id": "IN8kd0xpWE6W"
      },
      "source": [
        "y_pred = classifier.predict(X_test)\n",
        "y_pred = (y_pred > 0.5)"
      ],
      "execution_count": null,
      "outputs": []
    },
    {
      "cell_type": "code",
      "metadata": {
        "colab": {
          "base_uri": "https://localhost:8080/"
        },
        "id": "UAsy946MYFxH",
        "outputId": "303f101e-53ac-43c4-8777-77001d473cf7"
      },
      "source": [
        "y_pred"
      ],
      "execution_count": null,
      "outputs": [
        {
          "output_type": "execute_result",
          "data": {
            "text/plain": [
              "array([[ True],\n",
              "       [False],\n",
              "       [False],\n",
              "       [False],\n",
              "       [False],\n",
              "       [False],\n",
              "       [False],\n",
              "       [False],\n",
              "       [False],\n",
              "       [False],\n",
              "       [False],\n",
              "       [False],\n",
              "       [False],\n",
              "       [ True],\n",
              "       [False],\n",
              "       [ True],\n",
              "       [False],\n",
              "       [ True],\n",
              "       [ True],\n",
              "       [ True],\n",
              "       [ True],\n",
              "       [ True],\n",
              "       [False],\n",
              "       [False],\n",
              "       [ True],\n",
              "       [False],\n",
              "       [False],\n",
              "       [ True],\n",
              "       [False],\n",
              "       [ True],\n",
              "       [False],\n",
              "       [ True],\n",
              "       [False],\n",
              "       [ True],\n",
              "       [False],\n",
              "       [ True],\n",
              "       [False],\n",
              "       [ True],\n",
              "       [False],\n",
              "       [ True],\n",
              "       [ True],\n",
              "       [False],\n",
              "       [ True],\n",
              "       [False],\n",
              "       [False],\n",
              "       [ True],\n",
              "       [False],\n",
              "       [False],\n",
              "       [False],\n",
              "       [ True],\n",
              "       [ True],\n",
              "       [ True],\n",
              "       [ True],\n",
              "       [False],\n",
              "       [False],\n",
              "       [False],\n",
              "       [False],\n",
              "       [False],\n",
              "       [False],\n",
              "       [ True],\n",
              "       [ True],\n",
              "       [ True],\n",
              "       [False],\n",
              "       [False],\n",
              "       [ True],\n",
              "       [False],\n",
              "       [ True],\n",
              "       [ True],\n",
              "       [ True],\n",
              "       [False],\n",
              "       [False],\n",
              "       [ True],\n",
              "       [False],\n",
              "       [ True],\n",
              "       [ True],\n",
              "       [False],\n",
              "       [False],\n",
              "       [False],\n",
              "       [False],\n",
              "       [False],\n",
              "       [ True],\n",
              "       [ True],\n",
              "       [ True],\n",
              "       [False],\n",
              "       [ True],\n",
              "       [False],\n",
              "       [False],\n",
              "       [False],\n",
              "       [ True],\n",
              "       [ True],\n",
              "       [False],\n",
              "       [ True],\n",
              "       [ True],\n",
              "       [ True],\n",
              "       [False],\n",
              "       [False],\n",
              "       [ True],\n",
              "       [False],\n",
              "       [False],\n",
              "       [False],\n",
              "       [False],\n",
              "       [False],\n",
              "       [False],\n",
              "       [False],\n",
              "       [ True],\n",
              "       [False],\n",
              "       [ True],\n",
              "       [False],\n",
              "       [False],\n",
              "       [False],\n",
              "       [False],\n",
              "       [ True],\n",
              "       [ True],\n",
              "       [False]])"
            ]
          },
          "metadata": {},
          "execution_count": 184
        }
      ]
    },
    {
      "cell_type": "code",
      "metadata": {
        "colab": {
          "base_uri": "https://localhost:8080/"
        },
        "id": "YxXvW1CBYQ_M",
        "outputId": "d6dd365b-4845-4d3e-f27d-8a25ba73c746"
      },
      "source": [
        "y_test"
      ],
      "execution_count": null,
      "outputs": [
        {
          "output_type": "execute_result",
          "data": {
            "text/plain": [
              "array([1, 0, 0, 0, 0, 0, 0, 0, 0, 0, 0, 0, 0, 0, 0, 1, 0, 1, 1, 1, 1, 1,\n",
              "       0, 0, 1, 0, 0, 1, 0, 1, 0, 1, 0, 1, 0, 1, 0, 1, 0, 1, 1, 0, 1, 0,\n",
              "       0, 1, 0, 0, 0, 1, 1, 1, 1, 0, 0, 0, 0, 0, 0, 1, 1, 1, 0, 0, 1, 0,\n",
              "       1, 1, 1, 0, 0, 1, 0, 1, 1, 0, 0, 0, 0, 0, 1, 1, 1, 0, 1, 0, 0, 0,\n",
              "       1, 1, 0, 1, 0, 1, 0, 0, 1, 0, 0, 0, 0, 0, 0, 0, 1, 0, 1, 0, 1, 1,\n",
              "       0, 1, 1, 0])"
            ]
          },
          "metadata": {},
          "execution_count": 185
        }
      ]
    },
    {
      "cell_type": "code",
      "metadata": {
        "colab": {
          "base_uri": "https://localhost:8080/"
        },
        "id": "Nt6Bb3c9YUNC",
        "outputId": "39dac0e8-98d5-4136-ee18-9c2e27a32cb8"
      },
      "source": [
        "from sklearn.metrics import classification_report,confusion_matrix\n",
        "print(classification_report(y_test,y_pred))\n",
        "print(confusion_matrix(y_test,y_pred))"
      ],
      "execution_count": null,
      "outputs": [
        {
          "output_type": "stream",
          "name": "stdout",
          "text": [
            "              precision    recall  f1-score   support\n",
            "\n",
            "           0       0.97      0.97      0.97        67\n",
            "           1       0.96      0.96      0.96        47\n",
            "\n",
            "    accuracy                           0.96       114\n",
            "   macro avg       0.96      0.96      0.96       114\n",
            "weighted avg       0.96      0.96      0.96       114\n",
            "\n",
            "[[65  2]\n",
            " [ 2 45]]\n"
          ]
        }
      ]
    },
    {
      "cell_type": "code",
      "metadata": {
        "colab": {
          "base_uri": "https://localhost:8080/"
        },
        "id": "msgyW-dMYe3L",
        "outputId": "aebdd536-c55c-4703-ed27-06b9164709bd"
      },
      "source": [
        "accuracy = (65+45)/114\n",
        "print(accuracy)"
      ],
      "execution_count": null,
      "outputs": [
        {
          "output_type": "stream",
          "name": "stdout",
          "text": [
            "0.9649122807017544\n"
          ]
        }
      ]
    },
    {
      "cell_type": "markdown",
      "metadata": {
        "id": "fH4BLjGeazE3"
      },
      "source": [
        "#Diabetes Dataset"
      ]
    },
    {
      "cell_type": "code",
      "metadata": {
        "colab": {
          "resources": {
            "http://localhost:8080/nbextensions/google.colab/files.js": {
              "data": "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",
              "ok": true,
              "headers": [
                [
                  "content-type",
                  "application/javascript"
                ]
              ],
              "status": 200,
              "status_text": ""
            }
          },
          "base_uri": "https://localhost:8080/",
          "height": 91
        },
        "id": "3fm1oD-oc7ZA",
        "outputId": "ef818d13-b31b-43a1-dbc7-f650ece52066"
      },
      "source": [
        "uploaded = files.upload()\n",
        "\n",
        "for fn in uploaded.keys():\n",
        "  print('User uploaded file \"{name}\" with length {length} bytes'.format(\n",
        "      name=fn, length=len(uploaded[fn])))"
      ],
      "execution_count": null,
      "outputs": [
        {
          "output_type": "display_data",
          "data": {
            "text/html": [
              "\n",
              "     <input type=\"file\" id=\"files-f862ef8b-98d1-4c26-915b-2afb7d4cb4ee\" name=\"files[]\" multiple disabled\n",
              "        style=\"border:none\" />\n",
              "     <output id=\"result-f862ef8b-98d1-4c26-915b-2afb7d4cb4ee\">\n",
              "      Upload widget is only available when the cell has been executed in the\n",
              "      current browser session. Please rerun this cell to enable.\n",
              "      </output>\n",
              "      <script src=\"/nbextensions/google.colab/files.js\"></script> "
            ],
            "text/plain": [
              "<IPython.core.display.HTML object>"
            ]
          },
          "metadata": {}
        },
        {
          "output_type": "stream",
          "name": "stdout",
          "text": [
            "Saving diabetes_tab_separated.txt to diabetes_tab_separated.txt\n",
            "User uploaded file \"diabetes_tab_separated.txt\" with length 18496 bytes\n"
          ]
        }
      ]
    },
    {
      "cell_type": "code",
      "metadata": {
        "colab": {
          "base_uri": "https://localhost:8080/",
          "height": 206
        },
        "id": "PmZXROFEalWT",
        "outputId": "a93903ec-5381-4b18-b087-daeae51d3519"
      },
      "source": [
        "diabetes=pd.read_csv(io.StringIO(uploaded['diabetes_tab_separated.txt'].decode('utf-8')),sep='\\t')\n",
        "diabetes.head()"
      ],
      "execution_count": null,
      "outputs": [
        {
          "output_type": "execute_result",
          "data": {
            "text/html": [
              "<div>\n",
              "<style scoped>\n",
              "    .dataframe tbody tr th:only-of-type {\n",
              "        vertical-align: middle;\n",
              "    }\n",
              "\n",
              "    .dataframe tbody tr th {\n",
              "        vertical-align: top;\n",
              "    }\n",
              "\n",
              "    .dataframe thead th {\n",
              "        text-align: right;\n",
              "    }\n",
              "</style>\n",
              "<table border=\"1\" class=\"dataframe\">\n",
              "  <thead>\n",
              "    <tr style=\"text-align: right;\">\n",
              "      <th></th>\n",
              "      <th>AGE</th>\n",
              "      <th>SEX</th>\n",
              "      <th>BMI</th>\n",
              "      <th>BP</th>\n",
              "      <th>S1</th>\n",
              "      <th>S2</th>\n",
              "      <th>S3</th>\n",
              "      <th>S4</th>\n",
              "      <th>S5</th>\n",
              "      <th>S6</th>\n",
              "      <th>Y</th>\n",
              "    </tr>\n",
              "  </thead>\n",
              "  <tbody>\n",
              "    <tr>\n",
              "      <th>0</th>\n",
              "      <td>59</td>\n",
              "      <td>2</td>\n",
              "      <td>32.1</td>\n",
              "      <td>101.0</td>\n",
              "      <td>157</td>\n",
              "      <td>93.2</td>\n",
              "      <td>38.0</td>\n",
              "      <td>4.0</td>\n",
              "      <td>4.8598</td>\n",
              "      <td>87</td>\n",
              "      <td>151</td>\n",
              "    </tr>\n",
              "    <tr>\n",
              "      <th>1</th>\n",
              "      <td>48</td>\n",
              "      <td>1</td>\n",
              "      <td>21.6</td>\n",
              "      <td>87.0</td>\n",
              "      <td>183</td>\n",
              "      <td>103.2</td>\n",
              "      <td>70.0</td>\n",
              "      <td>3.0</td>\n",
              "      <td>3.8918</td>\n",
              "      <td>69</td>\n",
              "      <td>75</td>\n",
              "    </tr>\n",
              "    <tr>\n",
              "      <th>2</th>\n",
              "      <td>72</td>\n",
              "      <td>2</td>\n",
              "      <td>30.5</td>\n",
              "      <td>93.0</td>\n",
              "      <td>156</td>\n",
              "      <td>93.6</td>\n",
              "      <td>41.0</td>\n",
              "      <td>4.0</td>\n",
              "      <td>4.6728</td>\n",
              "      <td>85</td>\n",
              "      <td>141</td>\n",
              "    </tr>\n",
              "    <tr>\n",
              "      <th>3</th>\n",
              "      <td>24</td>\n",
              "      <td>1</td>\n",
              "      <td>25.3</td>\n",
              "      <td>84.0</td>\n",
              "      <td>198</td>\n",
              "      <td>131.4</td>\n",
              "      <td>40.0</td>\n",
              "      <td>5.0</td>\n",
              "      <td>4.8903</td>\n",
              "      <td>89</td>\n",
              "      <td>206</td>\n",
              "    </tr>\n",
              "    <tr>\n",
              "      <th>4</th>\n",
              "      <td>50</td>\n",
              "      <td>1</td>\n",
              "      <td>23.0</td>\n",
              "      <td>101.0</td>\n",
              "      <td>192</td>\n",
              "      <td>125.4</td>\n",
              "      <td>52.0</td>\n",
              "      <td>4.0</td>\n",
              "      <td>4.2905</td>\n",
              "      <td>80</td>\n",
              "      <td>135</td>\n",
              "    </tr>\n",
              "  </tbody>\n",
              "</table>\n",
              "</div>"
            ],
            "text/plain": [
              "   AGE  SEX   BMI     BP   S1     S2    S3   S4      S5  S6    Y\n",
              "0   59    2  32.1  101.0  157   93.2  38.0  4.0  4.8598  87  151\n",
              "1   48    1  21.6   87.0  183  103.2  70.0  3.0  3.8918  69   75\n",
              "2   72    2  30.5   93.0  156   93.6  41.0  4.0  4.6728  85  141\n",
              "3   24    1  25.3   84.0  198  131.4  40.0  5.0  4.8903  89  206\n",
              "4   50    1  23.0  101.0  192  125.4  52.0  4.0  4.2905  80  135"
            ]
          },
          "metadata": {},
          "execution_count": 189
        }
      ]
    },
    {
      "cell_type": "code",
      "metadata": {
        "colab": {
          "base_uri": "https://localhost:8080/",
          "height": 369
        },
        "id": "wWXPpWN2dGOI",
        "outputId": "0dc72341-0d1f-42d7-e4df-32318a6d52c4"
      },
      "source": [
        "ax = sns.countplot(diabetes['SEX'], label= 'Count')\n",
        "male,female = diabetes['SEX'].value_counts()\n",
        "print('Male', male)\n",
        "print('Female', female)"
      ],
      "execution_count": null,
      "outputs": [
        {
          "output_type": "stream",
          "name": "stdout",
          "text": [
            "Male 235\n",
            "Female 207\n"
          ]
        },
        {
          "output_type": "stream",
          "name": "stderr",
          "text": [
            "/usr/local/lib/python3.7/dist-packages/seaborn/_decorators.py:43: FutureWarning: Pass the following variable as a keyword arg: x. From version 0.12, the only valid positional argument will be `data`, and passing other arguments without an explicit keyword will result in an error or misinterpretation.\n",
            "  FutureWarning\n"
          ]
        },
        {
          "output_type": "display_data",
          "data": {
            "image/png": "[encoded data removed]",
            "text/plain": [
              "<Figure size 432x288 with 1 Axes>"
            ]
          },
          "metadata": {
            "needs_background": "light"
          }
        }
      ]
    },
    {
      "cell_type": "code",
      "metadata": {
        "id": "uUXLO1lbda7V"
      },
      "source": [
        "X = diabetes.iloc[:, 0:1].values + diabetes.iloc[:,2:]\n",
        "y = diabetes.iloc[:, 1].values\n",
        "\n",
        "# Encoding categorical data\n",
        "encoder = LabelEncoder()\n",
        "y = encoder.fit_transform(y)\n",
        "\n",
        "# Splitting the dataset into the Training set and Test set\n",
        "X_train, X_test, y_train, y_test = train_test_split(X, y, test_size = 0.2, random_state = 0)\n",
        "\n",
        "#Feature Scaling\n",
        "sc = StandardScaler()\n",
        "X_train = sc.fit_transform(X_train)\n",
        "X_test = sc.transform(X_test)"
      ],
      "execution_count": null,
      "outputs": []
    },
    {
      "cell_type": "code",
      "metadata": {
        "colab": {
          "base_uri": "https://localhost:8080/"
        },
        "id": "G0DiYn0Fd6AM",
        "outputId": "f32ed755-8f7b-4e0f-cc42-4cd2477714d6"
      },
      "source": [
        "X_train"
      ],
      "execution_count": null,
      "outputs": [
        {
          "output_type": "execute_result",
          "data": {
            "text/plain": [
              "array([[ 0.23702727,  0.88433615,  0.58388282, ...,  0.24401083,\n",
              "         1.02766929, -0.77397942],\n",
              "       [-2.46742368, -1.66186256, -2.35060742, ..., -2.23929632,\n",
              "        -1.51258084, -0.54186173],\n",
              "       [ 0.27049819,  0.7503257 , -0.01296265, ...,  0.52527894,\n",
              "        -0.24245578, -1.11604759],\n",
              "       ...,\n",
              "       [ 0.9599993 ,  1.86707952,  1.23046542, ...,  1.26877329,\n",
              "         2.39549628,  1.77931515],\n",
              "       [-1.9051121 , -1.70653271, -2.05218468, ..., -1.6265199 ,\n",
              "        -2.04994144, -0.38304437],\n",
              "       [ 1.20098998,  0.61631524,  0.9817798 , ...,  0.89356881,\n",
              "         1.56502989,  1.88926563]])"
            ]
          },
          "metadata": {},
          "execution_count": 194
        }
      ]
    },
    {
      "cell_type": "code",
      "metadata": {
        "colab": {
          "base_uri": "https://localhost:8080/"
        },
        "id": "rYS02P3hd-fS",
        "outputId": "7d78c7a6-9498-4102-f6b6-6d05ce38c9f9"
      },
      "source": [
        "X_test"
      ],
      "execution_count": null,
      "outputs": [
        {
          "output_type": "execute_result",
          "data": {
            "text/plain": [
              "array([[ 1.00685860e+00,  1.15235707e+00, -5.10333877e-01,\n",
              "        -3.12739718e-01, -8.43142079e-02,  3.77419992e-01,\n",
              "         3.92233904e-01,  7.34563504e-01,  2.13360004e+00],\n",
              "       [ 1.29920297e-01,  5.26974932e-01,  7.82831314e-01,\n",
              "         4.34071709e-01, -4.83816428e-01, -2.06553872e-01,\n",
              "        -2.20705564e-01, -9.59028840e-02,  7.28677191e-01],\n",
              "       [ 7.45785364e-01,  1.01834661e+00, -5.10333877e-01,\n",
              "        -7.30912752e-02, -2.72424622e-02,  7.42403658e-01,\n",
              "         7.45049287e-01,  5.88010612e-01, -1.75360120e-01],\n",
              "       [-3.92226172e-01, -6.79119195e-01, -3.85991070e-01,\n",
              "        -6.21263998e-03, -4.83816428e-01, -2.79550605e-01,\n",
              "        -3.09053928e-01, -6.33263488e-01, -1.11604759e+00],\n",
              "       [-1.64623865e-01,  8.84336155e-01, -4.85465315e-01,\n",
              "        -8.03183043e-01,  7.14690232e-01, -5.71537537e-01,\n",
              "        -5.28186921e-01, -4.37859632e-01,  2.03358213e-01],\n",
              "       [ 2.23638894e-01, -3.21757972e-01, -2.36779702e-01,\n",
              "        -5.69107820e-01, -6.55031665e-01, -4.25544071e-01,\n",
              "        -3.75858067e-01,  1.97202900e-01,  1.43724698e+00],\n",
              "       [ 1.09837741e-01,  8.02734036e-02,  3.67744732e-02,\n",
              "        -3.96519576e-02,  9.42977215e-01,  2.31426526e-01,\n",
              "         2.90108205e-01, -2.91306740e-01,  3.86609019e-01],\n",
              "       [ 1.23446091e+00,  1.37570784e+00,  7.08225630e-01,\n",
              "         6.79293371e-01,  7.14690232e-01,  1.18038406e+00,\n",
              "         1.23659406e+00,  1.02766929e+00,  1.18069585e+00],\n",
              "       [-6.46605222e-01, -9.91810265e-01, -1.35586496e+00,\n",
              "        -9.98245729e-01, -1.05453389e+00, -1.15551140e+00,\n",
              "        -1.15325104e+00, -1.41487891e+00, -2.97527324e-01],\n",
              "       [-2.91813390e-01, -1.87747514e-01, -5.10333877e-01,\n",
              "        -1.06512436e+00, -4.83816428e-01, -6.44534270e-01,\n",
              "        -5.96754915e-01, -7.30965416e-01, -7.49545980e-01],\n",
              "       [-2.71730833e-01, -2.32417666e-01, -1.18178503e+00,\n",
              "        -1.16544232e+00, -7.69175157e-01,  8.54330603e-02,\n",
              "         1.27648305e-01, -9.26369272e-01,  1.24177945e+00],\n",
              "       [ 8.46198146e-01,  1.69613709e-01,  5.83882823e-01,\n",
              "         1.14744382e+00, -4.26744682e-01,  7.42403658e-01,\n",
              "         6.16599171e-01,  4.90308684e-01,  3.74392299e-01],\n",
              "       [ 1.90167967e-01, -3.21757972e-01, -1.48020777e+00,\n",
              "        -1.15429588e+00, -1.41385954e-01,  3.77419992e-01,\n",
              "         4.38331280e-01,  1.48351936e-01, -1.99793561e-01],\n",
              "       [-6.66687778e-01, -1.52785210e+00, -1.50507633e+00,\n",
              "        -1.21002807e+00, -5.97959919e-01, -4.98540804e-01,\n",
              "        -4.67800840e-01, -8.28667344e-01, -1.01831383e+00],\n",
              "       [ 1.70974808e+00,  1.68839891e+00,  8.07699875e-01,\n",
              "         1.16416348e+00,  2.01044521e-01,  1.39937426e+00,\n",
              "         1.30237546e+00,  1.71158278e+00,  1.58384762e+00],\n",
              "       [-1.72436909e+00, -1.03648042e+00, -1.25639072e+00,\n",
              "        -1.11528334e+00, -1.11160563e+00, -1.81248200e+00,\n",
              "        -1.81866147e+00, -1.36602795e+00, -1.54363281e+00],\n",
              "       [-1.61726212e+00, -4.11098278e-01, -1.38073352e+00,\n",
              "        -1.38837110e+00, -1.22574912e+00, -1.44749833e+00,\n",
              "        -1.38782887e+00, -6.33263488e-01, -1.03053055e+00],\n",
              "       [-3.65449430e-01, -3.66428125e-01, -1.62174018e-01,\n",
              "        -3.46179036e-01,  1.11419245e+00, -1.33557139e-01,\n",
              "        -1.11005667e-01, -1.12177313e+00, -9.45013507e-01],\n",
              "       [-2.30676323e+00, -1.08115057e+00, -2.52468735e+00,\n",
              "        -2.34139165e+00, -1.73939483e+00, -2.10446893e+00,\n",
              "        -2.03350341e+00, -1.70798470e+00, -9.45013507e-01],\n",
              "       [ 8.06033033e-01,  1.37570784e+00,  5.34145700e-01,\n",
              "         9.18941814e-01,  2.98292835e-02,  6.69406925e-01,\n",
              "         6.10336746e-01,  1.80928471e+00,  1.42274611e-01],\n",
              "       [-4.05614543e-01,  5.26974932e-01, -2.49981878e+00,\n",
              "        -2.12960931e+00, -1.33989261e+00, -7.34320252e-01,\n",
              "        -6.73341777e-01, -2.42455776e-01,  1.17841170e-01],\n",
              "       [-1.11070381e-01, -8.57799806e-01, -5.10333877e-01,\n",
              "        -8.25475921e-01,  3.15188012e-01, -2.79550605e-01,\n",
              "        -1.89823287e-01, -1.93604812e-01,  1.48611386e+00],\n",
              "       [ 8.06033033e-01,  1.37570784e+00,  2.35722964e-01,\n",
              "         3.22607317e-01,  4.86403249e-01,  1.03439059e+00,\n",
              "         1.07794349e+00,  2.46053864e-01, -3.34177486e-01],\n",
              "       [ 4.51241201e-01, -5.00438583e-01, -1.28125928e+00,\n",
              "        -1.23789417e+00,  3.72259758e-01, -6.05604058e-02,\n",
              "         5.09799197e-02, -2.42455776e-01, -1.75360120e-01],\n",
              "       [-1.04156217e+00, -1.43851179e+00,  4.59540016e-01,\n",
              "         3.83912732e-01, -1.85353833e+00, -1.37450160e+00,\n",
              "        -1.48789427e+00, -1.41487891e+00, -1.27486496e+00],\n",
              "       [ 3.97687717e-01, -9.84072078e-02,  1.20559686e+00,\n",
              "         9.24515033e-01,  7.14690232e-01,  3.04423259e-01,\n",
              "         3.45380590e-01,  1.97202900e-01, -2.36443722e-01],\n",
              "       [ 6.31984210e-01,  1.95641982e+00,  9.81779805e-01,\n",
              "        -7.30912752e-02,  3.51120577e+00,  8.15400391e-01,\n",
              "         9.71615668e-01,  8.32265432e-01, -4.31911249e-01],\n",
              "       [ 9.42495806e-03, -5.45108736e-01, -5.10333877e-01,\n",
              "        -8.25475921e-01,  1.39955118e+00,  1.58429793e-01,\n",
              "         2.80495939e-01,  6.85712540e-01, -6.64028937e-01],\n",
              "       [ 3.84299346e-01,  8.39666002e-01, -1.87042579e-01,\n",
              "        -8.08756263e-01,  1.28540769e+00,  3.04423259e-01,\n",
              "         4.12518231e-01,  9.78818324e-01,  5.45426385e-01],\n",
              "       [ 1.83473781e-01, -9.84072078e-02,  4.59540016e-01,\n",
              "         7.07159469e-01, -3.12601191e-01,  8.54330603e-02,\n",
              "         2.63304225e-02,  5.06500080e-02,  5.45426385e-01],\n",
              "       [ 8.06033033e-01,  1.95641982e+00,  9.56911243e-01,\n",
              "         7.57318445e-01,  1.11419245e+00,  8.88397124e-01,\n",
              "         9.30780211e-01,  8.32265432e-01,  9.48578159e-01],\n",
              "       [-6.39911036e-01, -6.34449042e-01, -9.08230858e-01,\n",
              "        -7.64170506e-01,  2.98292835e-02, -4.25544071e-01,\n",
              "        -4.07451816e-01, -5.84412524e-01,  3.01091976e-01],\n",
              "       [-1.44990748e+00, -9.91810265e-01, -1.70402482e+00,\n",
              "        -1.57786057e+00, -1.22574912e+00, -1.59349180e+00,\n",
              "        -1.57229249e+00, -1.02407120e+00, -5.31929158e-02],\n",
              "       [-2.05907836e+00, -1.84054317e+00,  1.61117280e-01,\n",
              "         3.33753756e-01, -1.91061007e+00, -2.10446893e+00,\n",
              "        -2.19897224e+00, -1.80568662e+00,  2.27791654e-01],\n",
              "       [ 7.85950477e-01,  3.48294321e-01,  2.57336773e+00,\n",
              "         2.58533447e+00,  1.00004896e+00,  9.61393857e-01,\n",
              "         9.34367209e-01,  5.39159648e-01,  9.73011600e-01],\n",
              "       [ 4.17770274e-01,  4.82304779e-01, -1.37305456e-01,\n",
              "        -1.00957373e-01,  1.43972775e-01,  3.04423259e-01,\n",
              "         3.25933723e-01,  6.85712540e-01,  1.63271450e+00],\n",
              "       [-5.46192439e-01, -4.55768431e-01,  2.10854403e-01,\n",
              "         5.62255759e-01, -1.05453389e+00, -4.25544071e-01,\n",
              "        -4.88678060e-01, -4.37859632e-01, -8.98430771e-02],\n",
              "       [ 5.65042355e-01,  1.19702722e+00, -4.10859631e-01,\n",
              "         1.38691070e-01, -6.55031665e-01,  8.15400391e-01,\n",
              "         6.94616386e-01,  1.97202900e-01,  1.40059681e+00],\n",
              "       [ 2.97274935e-01,  3.03624168e-01,  2.10854403e-01,\n",
              "         3.28180536e-01,  7.14690232e-01,  2.31426526e-01,\n",
              "         2.78176248e-01,  5.88010612e-01, -1.20156464e+00],\n",
              "       [ 4.31158645e-01,  5.86386235e-01,  6.33619946e-01,\n",
              "         5.90121857e-01,  1.43972775e-01,  2.54055514e-01,\n",
              "         2.66355458e-01,  4.90308684e-01,  6.06509987e-01],\n",
              "       [-6.53299407e-01, -1.06640942e+00, -6.26997722e-02,\n",
              "         2.11142924e-01, -2.55529445e-01, -2.88310213e-01,\n",
              "        -3.02784092e-01, -7.79816380e-01, -7.25112539e-01],\n",
              "       [-1.11519821e+00, -3.66428125e-01,  3.67744732e-02,\n",
              "         2.89167999e-01, -1.51110785e+00, -1.08251467e+00,\n",
              "        -1.15036810e+00, -9.59028840e-02,  1.42274611e-01],\n",
              "       [ 4.44547016e-01, -3.21757972e-01,  1.55375672e+00,\n",
              "         1.22546889e+00,  9.42977215e-01,  5.23413459e-01,\n",
              "         5.72762197e-01,  5.39159648e-01, -6.02945335e-01],\n",
              "       [ 9.33222558e-01,  2.44212865e-01, -4.85465315e-01,\n",
              "        -6.24840016e-01,  6.00546741e-01,  9.88402648e-01,\n",
              "         1.08553992e+00,  9.78818324e-01,  7.40893912e-01],\n",
              "       [ 3.44134233e-01,  6.60985391e-01,  1.19059118e-02,\n",
              "         7.35025567e-01, -8.83318648e-01,  3.04423259e-01,\n",
              "         1.47658420e-01,  2.94904828e-01,  1.15626241e+00],\n",
              "       [ 8.46198146e-01,  3.03624168e-01, -1.29626495e-02,\n",
              "         8.85320932e-02,  1.57076642e+00,  1.25338079e+00,\n",
              "         1.30701484e+00,  1.97202900e-01, -5.41861733e-01],\n",
              "       [ 7.05620251e-01,  8.39666002e-01,  8.07699875e-01,\n",
              "         1.16398191e-01,  2.25562737e+00,  8.15400391e-01,\n",
              "         9.22442663e-01,  4.41457720e-01,  9.11927998e-01],\n",
              "       [-7.60406375e-01, -5.00438583e-01,  3.67744732e-02,\n",
              "        -5.07983968e-02,  2.98292835e-02, -1.08251467e+00,\n",
              "        -1.05237782e+00, -5.84412524e-01,  2.03358213e-01],\n",
              "       [-2.51648277e-01, -2.62346669e-01,  5.59014262e-01,\n",
              "         7.57318445e-01, -2.55529445e-01, -1.60323986e-02,\n",
              "        -4.71363443e-02,  2.94904828e-01, -8.35063023e-01],\n",
              "       [ 1.63391225e-01,  1.59905860e+00,  4.34671455e-01,\n",
              "         4.61937807e-01, -1.98457699e-01, -6.05604058e-02,\n",
              "        -3.37295672e-02,  6.85712540e-01,  1.43724698e+00],\n",
              "       [ 6.18595839e-01,  8.84336155e-01, -9.08230858e-01,\n",
              "        -4.74363087e-01, -3.12601191e-01,  8.15400391e-01,\n",
              "         8.36213889e-01, -9.59028840e-02,  1.91141493e-01],\n",
              "       [-1.14197495e+00, -7.68459500e-01, -1.03257366e+00,\n",
              "        -7.80890165e-01, -7.12103411e-01, -1.00951794e+00,\n",
              "        -9.95941887e-01, -1.07292216e+00, -3.21960765e-01],\n",
              "       [-2.65036648e-01,  9.29006308e-01, -6.26997722e-02,\n",
              "         1.05070188e-02,  2.58116266e-01, -4.98540804e-01,\n",
              "        -4.73003470e-01, -1.93604812e-01, -5.41861733e-01],\n",
              "       [ 7.72562106e-01,  1.24943556e-01,  1.85985841e-01,\n",
              "         3.78339513e-01,  8.69010293e-02,  9.61393857e-01,\n",
              "         9.32336553e-01,  9.29967360e-01, -1.02059798e-01],\n",
              "       [ 1.56697039e-01,  1.06301677e+00,  2.10854403e-01,\n",
              "         9.41053128e-02, -3.12601191e-01, -1.33557139e-01,\n",
              "        -9.51383869e-02, -2.91306740e-01,  5.08776224e-01],\n",
              "       [-1.09511565e+00,  3.92964473e-01,  1.25533398e+00,\n",
              "         1.52084953e+00, -1.45403611e+00, -8.63524469e-01,\n",
              "        -1.06369465e+00, -1.21947506e+00,  5.67575680e-02],\n",
              "       [-2.58342462e-01, -3.66428125e-01,  1.32993966e+00,\n",
              "         1.46511733e+00, -6.55031665e-01, -3.52547338e-01,\n",
              "        -4.73255449e-01, -2.91306740e-01, -4.44127969e-01],\n",
              "       [-1.34280051e+00, -1.39384164e+00, -1.67915626e+00,\n",
              "        -1.93454662e+00, -3.12601191e-01, -1.59349180e+00,\n",
              "        -1.50536236e+00, -1.36602795e+00, -1.34816528e+00],\n",
              "       [ 1.26123765e+00,  7.94995849e-01,  2.07599650e+00,\n",
              "         2.38469857e+00,  1.28540769e+00,  1.47237099e+00,\n",
              "         1.41950874e+00,  1.27192411e+00,  1.19291257e+00],\n",
              "       [ 8.32809775e-01,  1.01834661e+00,  1.28020254e+00,\n",
              "         1.11957772e+00,  7.14690232e-01,  8.15400391e-01,\n",
              "         8.70964789e-01,  5.39159648e-01,  1.15626241e+00],\n",
              "       [-5.26109882e-01, -8.57799806e-01, -8.58493735e-01,\n",
              "        -8.53342019e-01, -1.22574912e+00, -8.52574959e-01,\n",
              "        -8.43316588e-01, -7.79816380e-01, -1.36038200e+00],\n",
              "       [ 3.62017001e-02,  3.56032507e-02, -6.59545245e-01,\n",
              "        -7.25157969e-01,  2.58116266e-01, -2.06553872e-01,\n",
              "        -1.42569771e-01, -2.42455776e-01, -3.95261088e-01],\n",
              "       [ 7.99338848e-01, -3.81169275e-01,  1.36248719e-01,\n",
              "         9.41234692e-01, -4.83816428e-01,  6.32908558e-01,\n",
              "         4.94381835e-01,  2.94904828e-01, -4.32603414e-03],\n",
              "       [ 1.56697039e-01,  8.02734036e-02,  7.33094191e-01,\n",
              "         9.85820449e-01,  2.58116266e-01,  3.04423259e-01,\n",
              "         3.04611833e-01,  4.90308684e-01, -4.92994851e-01],\n",
              "       [ 1.26793183e+00,  3.03624168e-01, -8.75683336e-02,\n",
              "        -9.09074215e-01,  8.69010293e-02,  9.61393857e-01,\n",
              "         1.06677488e+00,  1.07652025e+00, -7.76263567e-02],\n",
              "       [-1.54362608e+00, -1.34917149e+00,  3.67744732e-02,\n",
              "        -2.57007522e-01, -5.97959919e-01, -1.95847546e+00,\n",
              "        -1.91241998e+00, -1.26832602e+00,  1.52276402e+00],\n",
              "       [-5.66274995e-01, -1.08115057e+00, -4.85465315e-01,\n",
              "        -2.96020059e-01, -8.43142079e-02, -2.79550605e-01,\n",
              "        -2.32793156e-01, -6.82114452e-01, -1.23821480e+00],\n",
              "       [-2.18177349e-01, -9.47140112e-01,  4.34671455e-01,\n",
              "         8.18623861e-01, -1.68232309e+00, -3.08749298e-01,\n",
              "        -5.37591675e-01,  1.17422218e+00,  1.92591579e+00],\n",
              "       [-1.25577610e+00, -1.25983118e+00,  1.61117280e-01,\n",
              "         4.06205611e-01, -2.36718404e+00, -1.44749833e+00,\n",
              "        -1.64753793e+00, -1.56143180e+00, -4.56344690e-01],\n",
              "       [-1.30263540e+00, -1.61719240e+00,  1.20559686e+00,\n",
              "         1.55410728e-01,  1.97026864e+00, -1.00951794e+00,\n",
              "        -9.48221469e-01, -5.84412524e-01, -1.31151512e+00],\n",
              "       [ 6.29784421e-02, -3.66428125e-01, -4.60596754e-01,\n",
              "        -6.97291871e-01,  1.39955118e+00,  8.54330603e-02,\n",
              "         1.82350030e-01,  2.94904828e-01, -6.15162055e-01],\n",
              "       [ 1.00016441e+00,  9.29006308e-01,  1.60349384e+00,\n",
              "         1.35922616e+00,  1.45662293e+00,  1.25338079e+00,\n",
              "         1.30977179e+00,  1.07652025e+00,  4.35475901e-01],\n",
              "       [ 5.04794686e-01, -5.00438583e-01,  3.67744732e-02,\n",
              "         7.73856540e-02,  6.57618487e-01,  7.42403658e-01,\n",
              "         7.62791589e-01,  1.48351936e-01, -6.51812217e-01],\n",
              "       [ 1.45536903e+00,  1.69613709e-01,  3.67744732e-02,\n",
              "        -8.98109340e-02,  1.79905340e+00,  1.25338079e+00,\n",
              "         1.33156799e+00,  4.41457720e-01, -5.29645012e-01],\n",
              "       [-6.13134294e-01, -5.00438583e-01, -1.55481345e+00,\n",
              "        -1.37165144e+00, -6.55031665e-01, -7.90527736e-01,\n",
              "        -7.59385272e-01, -9.59028840e-02, -1.15269775e+00],\n",
              "       [-1.00139705e+00,  2.14283862e-01, -2.11911140e-01,\n",
              "        -7.30912752e-02, -1.56817960e+00, -7.90527736e-01,\n",
              "        -9.10365295e-01, -4.37859632e-01, -1.65427546e-02],\n",
              "       [-2.11483164e-01, -9.47140112e-01,  8.57436998e-01,\n",
              "         1.37594582e+00, -5.40888174e-01, -6.05604058e-02,\n",
              "        -1.44289158e-01,  4.41457720e-01, -6.02945335e-01],\n",
              "       [-1.37847123e-01,  3.03624168e-01,  1.35480822e+00,\n",
              "         1.33693328e+00, -4.83816428e-01, -4.98540804e-01,\n",
              "        -5.43490953e-01,  1.97202900e-01,  3.25525417e-01],\n",
              "       [ 1.39512136e+00,  8.84336155e-01,  1.13099117e+00,\n",
              "         1.52642275e+00, -8.43142079e-02,  1.10738732e+00,\n",
              "         1.00847875e+00,  1.22307314e+00,  5.08776224e-01],\n",
              "       [ 3.84299346e-01,  9.73676460e-01,  2.34955068e+00,\n",
              "         1.73820510e+00,  1.17126420e+00,  2.31426526e-01,\n",
              "         2.87803337e-01, -9.59028840e-02,  1.64493122e+00],\n",
              "       [ 6.96726276e-02,  7.05655543e-01,  1.37967679e+00,\n",
              "         1.30906719e+00,  7.71761978e-01,  8.54330603e-02,\n",
              "         9.15559863e-02, -4.70519200e-02, -1.14276518e-01],\n",
              "       [ 1.08718882e+00,  1.33103768e+00,  3.10328648e-01,\n",
              "         2.22289364e-01,  2.01044521e-01,  1.18038406e+00,\n",
              "         1.17975792e+00,  1.12537122e+00,  1.66708052e-01],\n",
              "       [ 2.97274935e-01, -1.87747514e-01, -8.75683336e-02,\n",
              "        -7.86644948e-02,  1.28540769e+00,  3.77419992e-01,\n",
              "         3.84926506e-01,  9.95009720e-02, -1.20156464e+00],\n",
              "       [ 4.44547016e-01,  1.06301677e+00,  4.09802893e-01,\n",
              "         5.23243222e-01, -4.26744682e-01,  4.50416726e-01,\n",
              "         4.27155260e-01,  1.32077507e+00,  1.84039875e+00],\n",
              "       [-1.87164117e+00, -1.84054317e+00, -1.25639072e+00,\n",
              "        -9.92672509e-01, -1.62525134e+00, -1.44749833e+00,\n",
              "        -1.47406506e+00, -1.61028277e+00, -8.22846302e-01],\n",
              "       [-4.19002914e-01, -2.77087819e-01, -1.29626495e-02,\n",
              "         4.93379922e-03,  4.29331504e-01, -6.05604058e-02,\n",
              "         3.54328729e-04,  9.95009720e-02, -1.25043152e+00],\n",
              "       [-1.11519821e+00, -1.34917149e+00, -2.86516824e-01,\n",
              "        -5.57961381e-01, -1.98457699e-01, -1.59349180e+00,\n",
              "        -1.55973800e+00, -1.56143180e+00, -8.47279743e-01],\n",
              "       [-6.93464520e-01, -5.89778889e-01, -5.10333877e-01,\n",
              "        -2.01275326e-01, -1.79646658e+00, -7.17531003e-01,\n",
              "        -8.41849179e-01, -7.30965416e-01, -2.60877163e-01],\n",
              "       [-1.04156217e+00, -7.23789348e-01,  3.60065771e-01,\n",
              "         4.00632391e-01, -4.26744682e-01, -1.08251467e+00,\n",
              "        -1.10773914e+00, -8.77518308e-01, -1.31151512e+00]])"
            ]
          },
          "metadata": {},
          "execution_count": 195
        }
      ]
    },
    {
      "cell_type": "code",
      "metadata": {
        "colab": {
          "base_uri": "https://localhost:8080/"
        },
        "id": "QIJYszL5eBdy",
        "outputId": "47bccb6a-9bd0-40dc-f41c-9a9235f5758e"
      },
      "source": [
        "y_train"
      ],
      "execution_count": null,
      "outputs": [
        {
          "output_type": "execute_result",
          "data": {
            "text/plain": [
              "array([1, 0, 1, 1, 1, 0, 0, 1, 0, 1, 1, 0, 0, 1, 0, 1, 1, 0, 1, 0, 1, 1,\n",
              "       0, 0, 1, 0, 0, 1, 0, 1, 1, 1, 1, 0, 0, 1, 1, 1, 0, 0, 1, 1, 0, 0,\n",
              "       1, 0, 0, 1, 0, 0, 1, 0, 0, 1, 0, 0, 0, 0, 0, 0, 1, 0, 0, 0, 0, 1,\n",
              "       0, 0, 0, 1, 0, 0, 1, 1, 1, 0, 1, 1, 1, 0, 1, 0, 0, 1, 1, 0, 0, 1,\n",
              "       1, 1, 1, 1, 0, 0, 0, 0, 0, 0, 0, 0, 0, 0, 1, 1, 0, 0, 0, 0, 1, 0,\n",
              "       0, 1, 0, 0, 1, 1, 0, 0, 0, 0, 1, 0, 0, 1, 1, 1, 1, 0, 1, 0, 0, 1,\n",
              "       0, 0, 1, 1, 0, 0, 0, 0, 0, 1, 0, 0, 0, 0, 1, 1, 0, 0, 0, 1, 0, 1,\n",
              "       0, 0, 0, 1, 1, 1, 0, 0, 0, 0, 1, 0, 1, 1, 0, 0, 0, 1, 1, 1, 0, 0,\n",
              "       1, 1, 1, 1, 0, 0, 1, 0, 1, 0, 1, 1, 1, 0, 1, 1, 0, 0, 0, 0, 0, 1,\n",
              "       0, 1, 0, 0, 1, 0, 0, 1, 1, 1, 0, 0, 0, 1, 0, 1, 1, 1, 1, 0, 0, 1,\n",
              "       1, 1, 1, 1, 1, 0, 1, 0, 0, 1, 0, 1, 1, 1, 1, 1, 1, 1, 0, 1, 0, 1,\n",
              "       0, 1, 1, 1, 1, 1, 0, 0, 0, 0, 1, 0, 1, 0, 0, 1, 1, 1, 0, 1, 1, 1,\n",
              "       0, 1, 1, 1, 0, 0, 0, 1, 0, 1, 0, 0, 1, 0, 0, 0, 0, 0, 0, 0, 0, 0,\n",
              "       1, 0, 1, 1, 0, 1, 1, 1, 0, 1, 0, 1, 0, 1, 0, 1, 0, 1, 1, 0, 1, 1,\n",
              "       1, 0, 1, 0, 1, 0, 0, 1, 0, 0, 0, 0, 1, 1, 1, 0, 1, 1, 1, 1, 0, 1,\n",
              "       1, 1, 1, 1, 1, 0, 1, 1, 0, 0, 0, 1, 0, 0, 0, 1, 1, 1, 1, 1, 0, 0,\n",
              "       1])"
            ]
          },
          "metadata": {},
          "execution_count": 196
        }
      ]
    },
    {
      "cell_type": "code",
      "metadata": {
        "colab": {
          "base_uri": "https://localhost:8080/"
        },
        "id": "jIdUOD1reCl3",
        "outputId": "a5498a7e-eda8-4f24-8407-4157adceb568"
      },
      "source": [
        "y_test"
      ],
      "execution_count": null,
      "outputs": [
        {
          "output_type": "execute_result",
          "data": {
            "text/plain": [
              "array([1, 0, 1, 0, 0, 0, 0, 1, 0, 0, 0, 1, 1, 0, 1, 1, 0, 0, 0, 0, 1, 0,\n",
              "       1, 0, 1, 0, 0, 0, 0, 1, 1, 0, 0, 0, 0, 0, 0, 1, 0, 0, 0, 1, 0, 0,\n",
              "       1, 0, 0, 0, 1, 0, 1, 1, 0, 1, 0, 1, 0, 0, 0, 1, 0, 0, 0, 1, 0, 0,\n",
              "       0, 0, 1, 0, 0, 1, 1, 0, 1, 1, 1, 1, 1, 0, 0, 1, 1, 1, 1, 0, 0, 1,\n",
              "       0])"
            ]
          },
          "metadata": {},
          "execution_count": 197
        }
      ]
    },
    {
      "cell_type": "code",
      "metadata": {
        "id": "C4eRTm3jeD1c"
      },
      "source": [
        "classifier = Sequential()\n",
        "classifier.add(Dense(16, activation='relu',input_shape=(9,)))\n",
        "classifier.add(Dropout(rate=0.1))\n",
        "\n",
        "#adding the second hidden layer\n",
        "classifier.add(Dense(16, activation='relu'))\n",
        "classifier.add(Dropout(rate=0.1))\n",
        "\n",
        "#adding the output layer\n",
        "classifier.add(Dense(1, activation='sigmoid'))"
      ],
      "execution_count": null,
      "outputs": []
    },
    {
      "cell_type": "code",
      "metadata": {
        "id": "PYo1aMCseNBj"
      },
      "source": [
        "classifier.compile(optimizer=\"adam\", loss='binary_crossentropy', metrics=['accuracy'])"
      ],
      "execution_count": null,
      "outputs": []
    },
    {
      "cell_type": "code",
      "metadata": {
        "colab": {
          "base_uri": "https://localhost:8080/"
        },
        "id": "oTEBJVvReOpE",
        "outputId": "90614256-05ed-4efc-e1e4-b5d7dfd499df"
      },
      "source": [
        "classifier.fit(X_train, y_train, batch_size=20, epochs=100)"
      ],
      "execution_count": null,
      "outputs": [
        {
          "output_type": "stream",
          "name": "stdout",
          "text": [
            "Epoch 1/100\n",
            "18/18 [==============================] - 0s 2ms/step - loss: 0.4073 - accuracy: 0.8159\n",
            "Epoch 2/100\n",
            "18/18 [==============================] - 0s 2ms/step - loss: 0.4028 - accuracy: 0.8300\n",
            "Epoch 3/100\n",
            "18/18 [==============================] - 0s 2ms/step - loss: 0.4231 - accuracy: 0.7989\n",
            "Epoch 4/100\n",
            "18/18 [==============================] - 0s 2ms/step - loss: 0.4057 - accuracy: 0.8300\n",
            "Epoch 5/100\n",
            "18/18 [==============================] - 0s 2ms/step - loss: 0.4031 - accuracy: 0.7932\n",
            "Epoch 6/100\n",
            "18/18 [==============================] - 0s 2ms/step - loss: 0.4062 - accuracy: 0.8385\n",
            "Epoch 7/100\n",
            "18/18 [==============================] - 0s 2ms/step - loss: 0.4251 - accuracy: 0.8045\n",
            "Epoch 8/100\n",
            "18/18 [==============================] - 0s 2ms/step - loss: 0.3870 - accuracy: 0.8357\n",
            "Epoch 9/100\n",
            "18/18 [==============================] - 0s 2ms/step - loss: 0.4178 - accuracy: 0.7960\n",
            "Epoch 10/100\n",
            "18/18 [==============================] - 0s 2ms/step - loss: 0.4072 - accuracy: 0.8244\n",
            "Epoch 11/100\n",
            "18/18 [==============================] - 0s 2ms/step - loss: 0.4183 - accuracy: 0.7989\n",
            "Epoch 12/100\n",
            "18/18 [==============================] - 0s 2ms/step - loss: 0.3931 - accuracy: 0.8102\n",
            "Epoch 13/100\n",
            "18/18 [==============================] - 0s 2ms/step - loss: 0.4271 - accuracy: 0.8357\n",
            "Epoch 14/100\n",
            "18/18 [==============================] - 0s 2ms/step - loss: 0.3992 - accuracy: 0.8187\n",
            "Epoch 15/100\n",
            "18/18 [==============================] - 0s 2ms/step - loss: 0.3857 - accuracy: 0.8159\n",
            "Epoch 16/100\n",
            "18/18 [==============================] - 0s 2ms/step - loss: 0.4098 - accuracy: 0.8215\n",
            "Epoch 17/100\n",
            "18/18 [==============================] - 0s 2ms/step - loss: 0.4110 - accuracy: 0.8187\n",
            "Epoch 18/100\n",
            "18/18 [==============================] - 0s 2ms/step - loss: 0.3973 - accuracy: 0.8244\n",
            "Epoch 19/100\n",
            "18/18 [==============================] - 0s 2ms/step - loss: 0.4196 - accuracy: 0.8130\n",
            "Epoch 20/100\n",
            "18/18 [==============================] - 0s 2ms/step - loss: 0.4027 - accuracy: 0.8045\n",
            "Epoch 21/100\n",
            "18/18 [==============================] - 0s 2ms/step - loss: 0.3961 - accuracy: 0.8244\n",
            "Epoch 22/100\n",
            "18/18 [==============================] - 0s 2ms/step - loss: 0.4087 - accuracy: 0.8017\n",
            "Epoch 23/100\n",
            "18/18 [==============================] - 0s 2ms/step - loss: 0.4010 - accuracy: 0.8102\n",
            "Epoch 24/100\n",
            "18/18 [==============================] - 0s 2ms/step - loss: 0.3932 - accuracy: 0.8357\n",
            "Epoch 25/100\n",
            "18/18 [==============================] - 0s 2ms/step - loss: 0.4065 - accuracy: 0.8102\n",
            "Epoch 26/100\n",
            "18/18 [==============================] - 0s 2ms/step - loss: 0.4046 - accuracy: 0.8187\n",
            "Epoch 27/100\n",
            "18/18 [==============================] - 0s 2ms/step - loss: 0.4093 - accuracy: 0.8102\n",
            "Epoch 28/100\n",
            "18/18 [==============================] - 0s 2ms/step - loss: 0.4284 - accuracy: 0.8074\n",
            "Epoch 29/100\n",
            "18/18 [==============================] - 0s 2ms/step - loss: 0.3884 - accuracy: 0.8215\n",
            "Epoch 30/100\n",
            "18/18 [==============================] - 0s 2ms/step - loss: 0.4012 - accuracy: 0.8244\n",
            "Epoch 31/100\n",
            "18/18 [==============================] - 0s 2ms/step - loss: 0.3789 - accuracy: 0.8329\n",
            "Epoch 32/100\n",
            "18/18 [==============================] - 0s 2ms/step - loss: 0.4194 - accuracy: 0.8074\n",
            "Epoch 33/100\n",
            "18/18 [==============================] - 0s 3ms/step - loss: 0.3786 - accuracy: 0.8357\n",
            "Epoch 34/100\n",
            "18/18 [==============================] - 0s 2ms/step - loss: 0.3921 - accuracy: 0.8300\n",
            "Epoch 35/100\n",
            "18/18 [==============================] - 0s 2ms/step - loss: 0.4151 - accuracy: 0.8074\n",
            "Epoch 36/100\n",
            "18/18 [==============================] - 0s 2ms/step - loss: 0.4015 - accuracy: 0.8272\n",
            "Epoch 37/100\n",
            "18/18 [==============================] - 0s 2ms/step - loss: 0.4153 - accuracy: 0.8074\n",
            "Epoch 38/100\n",
            "18/18 [==============================] - 0s 2ms/step - loss: 0.3896 - accuracy: 0.8385\n",
            "Epoch 39/100\n",
            "18/18 [==============================] - 0s 2ms/step - loss: 0.3482 - accuracy: 0.8470\n",
            "Epoch 40/100\n",
            "18/18 [==============================] - 0s 2ms/step - loss: 0.4012 - accuracy: 0.8329\n",
            "Epoch 41/100\n",
            "18/18 [==============================] - 0s 2ms/step - loss: 0.4155 - accuracy: 0.8102\n",
            "Epoch 42/100\n",
            "18/18 [==============================] - 0s 2ms/step - loss: 0.4111 - accuracy: 0.8300\n",
            "Epoch 43/100\n",
            "18/18 [==============================] - 0s 2ms/step - loss: 0.4001 - accuracy: 0.8244\n",
            "Epoch 44/100\n",
            "18/18 [==============================] - 0s 2ms/step - loss: 0.3890 - accuracy: 0.8244\n",
            "Epoch 45/100\n",
            "18/18 [==============================] - 0s 2ms/step - loss: 0.3860 - accuracy: 0.8414\n",
            "Epoch 46/100\n",
            "18/18 [==============================] - 0s 2ms/step - loss: 0.3644 - accuracy: 0.8357\n",
            "Epoch 47/100\n",
            "18/18 [==============================] - 0s 2ms/step - loss: 0.3916 - accuracy: 0.8244\n",
            "Epoch 48/100\n",
            "18/18 [==============================] - 0s 2ms/step - loss: 0.4062 - accuracy: 0.8215\n",
            "Epoch 49/100\n",
            "18/18 [==============================] - 0s 2ms/step - loss: 0.4110 - accuracy: 0.8045\n",
            "Epoch 50/100\n",
            "18/18 [==============================] - 0s 2ms/step - loss: 0.4152 - accuracy: 0.8385\n",
            "Epoch 51/100\n",
            "18/18 [==============================] - 0s 2ms/step - loss: 0.3783 - accuracy: 0.8215\n",
            "Epoch 52/100\n",
            "18/18 [==============================] - 0s 2ms/step - loss: 0.4271 - accuracy: 0.8130\n",
            "Epoch 53/100\n",
            "18/18 [==============================] - 0s 2ms/step - loss: 0.4024 - accuracy: 0.8215\n",
            "Epoch 54/100\n",
            "18/18 [==============================] - 0s 2ms/step - loss: 0.3990 - accuracy: 0.8102\n",
            "Epoch 55/100\n",
            "18/18 [==============================] - 0s 2ms/step - loss: 0.4148 - accuracy: 0.8130\n",
            "Epoch 56/100\n",
            "18/18 [==============================] - 0s 2ms/step - loss: 0.4180 - accuracy: 0.7989\n",
            "Epoch 57/100\n",
            "18/18 [==============================] - 0s 2ms/step - loss: 0.4133 - accuracy: 0.8130\n",
            "Epoch 58/100\n",
            "18/18 [==============================] - 0s 2ms/step - loss: 0.4203 - accuracy: 0.8045\n",
            "Epoch 59/100\n",
            "18/18 [==============================] - 0s 2ms/step - loss: 0.3732 - accuracy: 0.8187\n",
            "Epoch 60/100\n",
            "18/18 [==============================] - 0s 2ms/step - loss: 0.4017 - accuracy: 0.8074\n",
            "Epoch 61/100\n",
            "18/18 [==============================] - 0s 2ms/step - loss: 0.3902 - accuracy: 0.7989\n",
            "Epoch 62/100\n",
            "18/18 [==============================] - 0s 2ms/step - loss: 0.4259 - accuracy: 0.8017\n",
            "Epoch 63/100\n",
            "18/18 [==============================] - 0s 2ms/step - loss: 0.4303 - accuracy: 0.7819\n",
            "Epoch 64/100\n",
            "18/18 [==============================] - 0s 2ms/step - loss: 0.3832 - accuracy: 0.8385\n",
            "Epoch 65/100\n",
            "18/18 [==============================] - 0s 2ms/step - loss: 0.4091 - accuracy: 0.8187\n",
            "Epoch 66/100\n",
            "18/18 [==============================] - 0s 2ms/step - loss: 0.3925 - accuracy: 0.8300\n",
            "Epoch 67/100\n",
            "18/18 [==============================] - 0s 2ms/step - loss: 0.4064 - accuracy: 0.8045\n",
            "Epoch 68/100\n",
            "18/18 [==============================] - 0s 2ms/step - loss: 0.4146 - accuracy: 0.8017\n",
            "Epoch 69/100\n",
            "18/18 [==============================] - 0s 2ms/step - loss: 0.4330 - accuracy: 0.8130\n",
            "Epoch 70/100\n",
            "18/18 [==============================] - 0s 2ms/step - loss: 0.4262 - accuracy: 0.8102\n",
            "Epoch 71/100\n",
            "18/18 [==============================] - 0s 2ms/step - loss: 0.3998 - accuracy: 0.8414\n",
            "Epoch 72/100\n",
            "18/18 [==============================] - 0s 2ms/step - loss: 0.4057 - accuracy: 0.8045\n",
            "Epoch 73/100\n",
            "18/18 [==============================] - 0s 2ms/step - loss: 0.4032 - accuracy: 0.8102\n",
            "Epoch 74/100\n",
            "18/18 [==============================] - 0s 2ms/step - loss: 0.4071 - accuracy: 0.8329\n",
            "Epoch 75/100\n",
            "18/18 [==============================] - 0s 2ms/step - loss: 0.3895 - accuracy: 0.8187\n",
            "Epoch 76/100\n",
            "18/18 [==============================] - 0s 2ms/step - loss: 0.4104 - accuracy: 0.7932\n",
            "Epoch 77/100\n",
            "18/18 [==============================] - 0s 2ms/step - loss: 0.3694 - accuracy: 0.8385\n",
            "Epoch 78/100\n",
            "18/18 [==============================] - 0s 2ms/step - loss: 0.4217 - accuracy: 0.7904\n",
            "Epoch 79/100\n",
            "18/18 [==============================] - 0s 2ms/step - loss: 0.3868 - accuracy: 0.8074\n",
            "Epoch 80/100\n",
            "18/18 [==============================] - 0s 2ms/step - loss: 0.3804 - accuracy: 0.8527\n",
            "Epoch 81/100\n",
            "18/18 [==============================] - 0s 2ms/step - loss: 0.3811 - accuracy: 0.8300\n",
            "Epoch 82/100\n",
            "18/18 [==============================] - 0s 2ms/step - loss: 0.4025 - accuracy: 0.8385\n",
            "Epoch 83/100\n",
            "18/18 [==============================] - 0s 2ms/step - loss: 0.4147 - accuracy: 0.8017\n",
            "Epoch 84/100\n",
            "18/18 [==============================] - 0s 2ms/step - loss: 0.3929 - accuracy: 0.8272\n",
            "Epoch 85/100\n",
            "18/18 [==============================] - 0s 2ms/step - loss: 0.4005 - accuracy: 0.8215\n",
            "Epoch 86/100\n",
            "18/18 [==============================] - 0s 2ms/step - loss: 0.4144 - accuracy: 0.7989\n",
            "Epoch 87/100\n",
            "18/18 [==============================] - 0s 2ms/step - loss: 0.3774 - accuracy: 0.8385\n",
            "Epoch 88/100\n",
            "18/18 [==============================] - 0s 2ms/step - loss: 0.3955 - accuracy: 0.8244\n",
            "Epoch 89/100\n",
            "18/18 [==============================] - 0s 2ms/step - loss: 0.3844 - accuracy: 0.8215\n",
            "Epoch 90/100\n",
            "18/18 [==============================] - 0s 2ms/step - loss: 0.3732 - accuracy: 0.8272\n",
            "Epoch 91/100\n",
            "18/18 [==============================] - 0s 2ms/step - loss: 0.3898 - accuracy: 0.8102\n",
            "Epoch 92/100\n",
            "18/18 [==============================] - 0s 2ms/step - loss: 0.3792 - accuracy: 0.8130\n",
            "Epoch 93/100\n",
            "18/18 [==============================] - 0s 2ms/step - loss: 0.3750 - accuracy: 0.8357\n",
            "Epoch 94/100\n",
            "18/18 [==============================] - 0s 2ms/step - loss: 0.3799 - accuracy: 0.8187\n",
            "Epoch 95/100\n",
            "18/18 [==============================] - 0s 2ms/step - loss: 0.4163 - accuracy: 0.8130\n",
            "Epoch 96/100\n",
            "18/18 [==============================] - 0s 2ms/step - loss: 0.3974 - accuracy: 0.8187\n",
            "Epoch 97/100\n",
            "18/18 [==============================] - 0s 2ms/step - loss: 0.3828 - accuracy: 0.8499\n",
            "Epoch 98/100\n",
            "18/18 [==============================] - 0s 2ms/step - loss: 0.3984 - accuracy: 0.8244\n",
            "Epoch 99/100\n",
            "18/18 [==============================] - 0s 2ms/step - loss: 0.3581 - accuracy: 0.8470\n",
            "Epoch 100/100\n",
            "18/18 [==============================] - 0s 2ms/step - loss: 0.3666 - accuracy: 0.8329\n"
          ]
        },
        {
          "output_type": "execute_result",
          "data": {
            "text/plain": [
              "<keras.callbacks.History at 0x7f1f864f0490>"
            ]
          },
          "metadata": {},
          "execution_count": 214
        }
      ]
    },
    {
      "cell_type": "code",
      "metadata": {
        "colab": {
          "base_uri": "https://localhost:8080/"
        },
        "id": "TuD3zyIYeUgz",
        "outputId": "a023c645-447f-4b84-f812-5893252ff136"
      },
      "source": [
        "y_pred = classifier.predict(X_test)\n",
        "y_pred = (y_pred > 0.5)\n",
        "print(y_pred)"
      ],
      "execution_count": null,
      "outputs": [
        {
          "output_type": "stream",
          "name": "stdout",
          "text": [
            "[[ True]\n",
            " [ True]\n",
            " [ True]\n",
            " [False]\n",
            " [False]\n",
            " [False]\n",
            " [False]\n",
            " [False]\n",
            " [False]\n",
            " [False]\n",
            " [False]\n",
            " [ True]\n",
            " [ True]\n",
            " [False]\n",
            " [ True]\n",
            " [ True]\n",
            " [ True]\n",
            " [False]\n",
            " [ True]\n",
            " [ True]\n",
            " [ True]\n",
            " [False]\n",
            " [ True]\n",
            " [False]\n",
            " [ True]\n",
            " [False]\n",
            " [False]\n",
            " [False]\n",
            " [False]\n",
            " [False]\n",
            " [False]\n",
            " [False]\n",
            " [ True]\n",
            " [False]\n",
            " [False]\n",
            " [ True]\n",
            " [ True]\n",
            " [ True]\n",
            " [ True]\n",
            " [ True]\n",
            " [False]\n",
            " [ True]\n",
            " [False]\n",
            " [ True]\n",
            " [ True]\n",
            " [False]\n",
            " [False]\n",
            " [False]\n",
            " [ True]\n",
            " [ True]\n",
            " [ True]\n",
            " [ True]\n",
            " [False]\n",
            " [ True]\n",
            " [False]\n",
            " [ True]\n",
            " [False]\n",
            " [False]\n",
            " [False]\n",
            " [ True]\n",
            " [ True]\n",
            " [False]\n",
            " [ True]\n",
            " [ True]\n",
            " [ True]\n",
            " [False]\n",
            " [False]\n",
            " [False]\n",
            " [ True]\n",
            " [False]\n",
            " [False]\n",
            " [False]\n",
            " [False]\n",
            " [False]\n",
            " [ True]\n",
            " [ True]\n",
            " [False]\n",
            " [ True]\n",
            " [ True]\n",
            " [False]\n",
            " [False]\n",
            " [ True]\n",
            " [False]\n",
            " [ True]\n",
            " [ True]\n",
            " [ True]\n",
            " [False]\n",
            " [ True]\n",
            " [False]]\n"
          ]
        }
      ]
    },
    {
      "cell_type": "code",
      "metadata": {
        "colab": {
          "base_uri": "https://localhost:8080/"
        },
        "id": "SwpX1DLaef1B",
        "outputId": "5659b3b1-8b8a-43ff-80fd-5ab0b2832b78"
      },
      "source": [
        "from sklearn.metrics import classification_report,confusion_matrix\n",
        "print(classification_report(y_test,y_pred))\n",
        "print(confusion_matrix(y_test,y_pred))"
      ],
      "execution_count": null,
      "outputs": [
        {
          "output_type": "stream",
          "name": "stdout",
          "text": [
            "              precision    recall  f1-score   support\n",
            "\n",
            "           0       0.85      0.72      0.78        54\n",
            "           1       0.65      0.80      0.72        35\n",
            "\n",
            "    accuracy                           0.75        89\n",
            "   macro avg       0.75      0.76      0.75        89\n",
            "weighted avg       0.77      0.75      0.76        89\n",
            "\n",
            "[[39 15]\n",
            " [ 7 28]]\n"
          ]
        }
      ]
    },
    {
      "cell_type": "code",
      "metadata": {
        "colab": {
          "base_uri": "https://localhost:8080/"
        },
        "id": "gPJtk66Vekz5",
        "outputId": "f889edb3-6a3a-4c55-c4c7-46cb149d1bdb"
      },
      "source": [
        "accuracy = (39+28)/(38+27+7+15)\n",
        "print(accuracy)"
      ],
      "execution_count": null,
      "outputs": [
        {
          "output_type": "stream",
          "name": "stdout",
          "text": [
            "0.7701149425287356\n"
          ]
        }
      ]
    }
  ]
}